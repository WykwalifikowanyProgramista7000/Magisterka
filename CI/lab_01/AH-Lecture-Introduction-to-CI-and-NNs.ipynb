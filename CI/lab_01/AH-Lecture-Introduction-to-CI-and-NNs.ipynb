{
 "cells": [
  {
   "cell_type": "markdown",
   "metadata": {},
   "source": [
    "<table>\n",
    "<tr>    \n",
    "<td>\n",
    "<img src=\"http://home.agh.edu.pl/~horzyk/im/AdrianHorzyk140h.png\" alt=\"Adrian Horzyk, Professor\" title=\"Adrian Horzyk, Professor\" />        \n",
    "</td> \n",
    "<td style=\"text-align: center\">\n",
    "<h1>Introduction to Machine Learning,<br />Computational Intelligence, and Neural Networks</h1>\n",
    "<h2><a href=\"http://home.agh.edu.pl/~horzyk/index-eng.php\">Adrian Horzyk</a></h2>\n",
    "<h3>Welcome to the interactive lecture where you can check everything by yourself and experiment!</h3>\n",
    "</td> \n",
    "</tr>\n",
    "</table>"
   ]
  },
  {
   "cell_type": "markdown",
   "metadata": {},
   "source": [
    "### Machine Learning\n",
    "is an important part of computer science, developing algorithms that are able to learn from data and adapt without following explicit instructions.\n",
    "\n",
    "What is the fundamental difference between classical programming and machine learning?\n",
    "\n",
    "![difference between classical programming and machine learning](http://home.agh.edu.pl/~horzyk/lectures/figures/Difference-between-classic-programming-and-machine-learning.png)\n",
    "\n",
    "Machine learning introduces a new programming paradigm. It is presented with a lot of data and responses to establish rules that allow the selected process to be automated without the need for a priori programming by the developer."
   ]
  },
  {
   "cell_type": "markdown",
   "metadata": {},
   "source": [
    "### Computational Intelligence\n",
    "is a part of artificial intelligence focussed on computational techniques and algorithms, which can learn to solve various computational tasks intelligently, using training data and various machine learning techniques.\n"
   ]
  },
  {
   "cell_type": "markdown",
   "metadata": {},
   "source": [
    "### Artificial Intelligence\n",
    "encompass all methods, structures, and algorithms which mimic human intelligence, learn from training data of various kinds, react to the surroundings, construct knowledge representation and allow to define goals and strive to find smart solution of various problems."
   ]
  },
  {
   "cell_type": "markdown",
   "metadata": {},
   "source": [
    "### Artificial Neural Networks\n",
    "are mainstream systems in machine learning, computational intelligence and artificial intelligence inspired by biological neurons, their structures and neural processes. There are many models of neurons and their networks today, as well as many training algorithms which allow to adapt these networks to various computational tasks. Today, deep learning neural systems are ususally the most efficient in solving various problems, so they will be the focus of our classes."
   ]
  },
  {
   "cell_type": "markdown",
   "metadata": {},
   "source": [
    "### Learning Strategies\n",
    "We can distinguish a few main groups of learning strategies:\n",
    "<ul>\n",
    "<li> <b>Unsupervised Learning</b> is a group of methods which use training data to group or cluster them according to their similarities or other existing relationships between them. They can work under different conditions, defining, e.g., competitive learning.This kind of learning does not require to define a goal of training, e.g., classes or predictions.<br />\n",
    "Training data set $𝕊={𝑋^1,…,𝑋^𝑁}$ consists only of input samples that are not labelled (have no determined target), classified or categorized where $𝑋^𝑛=[𝑥_1^𝑛,…,𝑥_𝐾^𝑛]∈𝑋$. Unsupervised learning encompass various clustering, anomaly detection, novelty detection methods, as well as learning association rules.</li>\n",
    "<li> <b>Competitive Learning</b> is a kind of unsupervised learning in which nodes (neurons) compete for the right to respond to a subset of the input data and adapt parameters (e.g., weights) to support such responses in the future. Two major competitive strategies are winner-takes-all and winner-takes-most. The algorithms like vector quantization and Kohonen’s self-organizing maps (SOM) apply the competitive unsupervised principle.</li>\n",
    "<li> <b>Supervised Learning</b> is a group of methods which requires to define a goal of trainig, e.g. classes or predicted values, and such a learning strives to achieve this goal by adapting free parameters of the model (e.g. weights) during the training process, which is usually based on some optimization strategies (like backpropagation algorithm). The goal of training is defined by labels (in case of classification) or by predicted values (in case of regression problems). This kind of learning is the most popular and often used in practice, so start our journey in computational intelligence from this kind of learning.<br />\n",
    "Training data set (training examples) $𝕊={𝑃^1,…,𝑃^𝑁}$ is defined as a set of pairs $𝑃^𝑛=[𝑋^𝑛,𝑌^𝑛]$, where\n",
    "the input sample $𝑋^𝑛=[𝑥_1^𝑛,…,𝑥_𝐾^𝑛]∈𝑋$ and output target (label or numerical value) $𝑌^𝑛=[𝑦_1^𝑛,…,𝑦_𝐿^𝑛]∈𝑌$ are usually defined as vectors (matrices or tensors).<br />\n",
    "The goal of supervised learning is to model the inferred function $𝑓:𝑋→𝑌$ and for each $n = 1, …, N$, the model is trained to fit its outputs to the desired outputs (defined in the training data set): $𝑓(𝑋^𝑛 )≅𝑌^𝑛$. To achieve this go, the training algorithm tries to minimize the error (loss) $𝛿=𝑌^𝑛−𝑓(𝑋^𝑛)$ and simultaneously achieved good generalization properties of the model. Such function can model classification or regression tasks.<br />\n",
    "<b>Generalization</b> means the ability of the model to achieved $𝑓(𝑋^𝑛 )≅𝑌^𝑛$ for pairs of the validation and test sets during the training process of the model.</li>\n",
    "<li> <b>Weakly Supervised Learning</b> is a group of methods where noisy, limited, or imprecise sources are used to provide supervision signal for labeling large amounts of training data in a supervised learning setting. This approach alleviates the burden of obtaining hand-labeled data sets, which can be costly or impractical. Instead, inexpensive weak labels are employed with the understanding that they are imperfect, but can nonetheless be used to create a strong predictive model. Weak labels can be calculated or defined by non-experts.</li>\n",
    "<li> <b>Semi-supervised Learning</b> is a group of methods which use structural assumptions to automatically leverage unlabeled data. In this approach, a small amount of labeled data with a large amount of unlabeled data is used during training. The labels can be used to similar training data which are unlabeled. It is a special instance of weak supervision (weakly supervised learning).</li>\n",
    "<li> <b>Reinforcement Learning</b> is a group of methods which use intelligent agents to maximize the cumulative reward for undertaken actions in the environment. This kind of learning does not require to label data but to evaluate the results of the taken actions. This evaluation can be made by the environment, but in practice, we often use functions to do such evaluations.</li>\n",
    "<li> <b>Motivated Learning</b> is a group of methods which defines fundamental needs and automatically develops secondary needs which affect the fundamental ones and control the interactions with the environment using pain and/or pleasure. During the learning process, fundamental needs should be satisfied in the way of minimizing pain (a penalty) and/or maximizing pleasure (a reward), which work as motivating factors.</li>\n",
    "<li> <b>Associative Learning</b> is a group of methods which learns from the relationships and their strength between training data, aggregating the representation of similar features and objects, connecting them due to their relationships and actions of various kinds, weighing them according to their strenghts or frequence of occuerences, reproducing their strengths and allowing to trigger created associations recalling back related objects for given contexts. It can use labeled and unlabelled data for training classification, regression as well as predicting actions using motivating factors if necessary.</li>\n",
    "</ul>\n",
    "\n",
    "Now, we focus on the most frequently used supervised learning and the computational tasks that can be solved using this kind of learning."
   ]
  },
  {
   "cell_type": "markdown",
   "metadata": {},
   "source": [
    "### Training data\n",
    "consist of training examples that should cover the input data space of the solved problem and many times defines the correct evaluation (e.g. classification, prediction, approximation, recommendation) of the input data defined by the solved task.\n",
    "\n",
    "### Validation data\n",
    "consist of similar examples to the training examples but they are used to validate and score the model during the training, checking the robustness of the model to generalize training data.\n",
    "\n",
    "### Testing data\n",
    "consist of similar examples to the training examples but they are never used in the training process to test whether the model generalizes well on the data never seen before.\n"
   ]
  },
  {
   "cell_type": "markdown",
   "metadata": {},
   "source": [
    "# Programming Environment\n",
    "We will use Jupyter notebook or Google Colaboration notebook with Python 3+ and Keras and Tensorflow 2.0 libraries as the base for our applications and experiments. Except those, we will also use many other libraries, e.g., sklearn, pandas, numpy, matplotlib, to expand the possibilities of our solutions."
   ]
  },
  {
   "cell_type": "code",
   "execution_count": 2,
   "metadata": {
    "pycharm": {
     "is_executing": true
    }
   },
   "outputs": [
    {
     "name": "stdout",
     "output_type": "stream",
     "text": [
      "TensorFlow version: 2.4.1\n",
      "Keras version: 2.4.3\n"
     ]
    }
   ],
   "source": [
    "import tensorflow as tf\n",
    "import keras\n",
    "\n",
    "print (\"TensorFlow version: \" + tf.__version__)\n",
    "print (\"Keras version: \" + keras.__version__)"
   ]
  },
  {
   "cell_type": "markdown",
   "metadata": {},
   "source": [
    "# A first neural network for classification\n",
    "\n",
    "Let's build a first neural network to classify hand-written digits from the MNIST dataset and train it using a suppervised approach.\n",
    "\n",
    "----\n",
    "## MNIST Classification\n",
    "\n",
    "The problem is to classify grayscale images of handwritten digits (stored as 28 by 28 pixels) into 10 \n",
    "categories/classes labeled as 0 to 9. The MNIST dataset easily available in Keras consists of 60,000 training images, plus 10,000 test images, assembled by the National Institute of Standards and Technology (the NIST in MNIST) in the 1980s. The MNIST dataset comes pre-loaded in Keras, in the form of a set of four Numpy arrays:"
   ]
  },
  {
   "cell_type": "code",
   "execution_count": 3,
   "metadata": {
    "pycharm": {
     "is_executing": true
    }
   },
   "outputs": [],
   "source": [
    "from keras.datasets import mnist\n",
    "\n",
    "# Load the data splitted between train and test sets\n",
    "(train_images, train_labels), (test_images, test_labels) = mnist.load_data()"
   ]
  },
  {
   "cell_type": "markdown",
   "metadata": {},
   "source": [
    "where\n",
    "`train_images` and `train_labels` form the <b>training set</b>, used to train the model;\n",
    "`test_images` and `test_labels` form the <b>test set</b>, used to test the model generalization properties. \n",
    "\n",
    "All images are encoded as Numpy arrays, and the labels are simply coded as an array of digits, ranging from 0 to 9.\n",
    "There is a one-to-one correspondence between the images and the labels.\n",
    "\n",
    "Let's have a look at the loaded training and test data, their shapes and labels:"
   ]
  },
  {
   "cell_type": "code",
   "execution_count": 4,
   "metadata": {
    "pycharm": {
     "is_executing": true
    }
   },
   "outputs": [
    {
     "name": "stdout",
     "output_type": "stream",
     "text": [
      "Number of training data:  60000\n",
      "Training data shape:  (60000, 28, 28)\n",
      "Training data labels:  [5 0 4 ... 5 6 8]\n",
      "Number of test data:  10000\n",
      "Test data shape:  (10000, 28, 28)\n",
      "Test data labels:  [7 2 1 ... 4 5 6]\n"
     ]
    }
   ],
   "source": [
    "print (\"Number of training data: \", len(train_labels))\n",
    "print (\"Training data shape: \", train_images.shape)\n",
    "print (\"Training data labels: \", train_labels)\n",
    "\n",
    "print (\"Number of test data: \", len(test_labels))\n",
    "print (\"Test data shape: \", test_images.shape)\n",
    "print (\"Test data labels: \", test_labels)"
   ]
  },
  {
   "cell_type": "markdown",
   "metadata": {},
   "source": [
    "Now, we can view a few examples of hand-written digits from the training dataset, using mathplotlib:"
   ]
  },
  {
   "cell_type": "code",
   "execution_count": 5,
   "metadata": {
    "pycharm": {
     "is_executing": true
    }
   },
   "outputs": [
    {
     "data": {
      "image/png": "[encoded data removed]",
      "text/plain": [
       "<Figure size 1080x72 with 15 Axes>"
      ]
     },
     "metadata": {
      "needs_background": "light"
     },
     "output_type": "display_data"
    }
   ],
   "source": [
    "import matplotlib.pyplot as plt  # library for plotting math functions: https://matplotlib.org/stable/index.html\n",
    "%matplotlib inline\n",
    "plt.rcParams['image.interpolation'] = 'nearest'\n",
    "plt.rcParams['image.cmap'] = 'gray'\n",
    "\n",
    "# Show a few sample digits from the training set together with their labels\n",
    "plt.rcParams['figure.figsize'] = (2.5, 2.5) # set default size of plots\n",
    "col1 = 15\n",
    "row1 = 1\n",
    "fig = plt.figure(figsize=(col1, row1))\n",
    "for index1 in range(0, col1*row1):\n",
    "    fig.add_subplot(row1, col1, index1 + 1)\n",
    "    plt.axis('off')\n",
    "    plt.imshow(train_images[index1]) # index of the sample image\n",
    "    plt.title(\"Class \" + str(train_labels[index1]))\n",
    "plt.show()"
   ]
  },
  {
   "cell_type": "code",
   "execution_count": 6,
   "metadata": {
    "pycharm": {
     "is_executing": true
    }
   },
   "outputs": [
    {
     "data": {
      "image/png": "[encoded data removed]",
      "text/plain": [
       "<Figure size 1080x360 with 75 Axes>"
      ]
     },
     "metadata": {
      "needs_background": "light"
     },
     "output_type": "display_data"
    }
   ],
   "source": [
    "# Show a few sample digits from the training set\n",
    "plt.rcParams['figure.figsize'] = (1.5, 1.5) # set default size of plots\n",
    "col2 = 15\n",
    "row2 = 5\n",
    "fig = plt.figure(figsize=(col2, row2))\n",
    "for index2 in range(0, col2*row2):\n",
    "    fig.add_subplot(row2, col2, index2 + 1)\n",
    "    plt.axis('off')\n",
    "    plt.imshow(train_images[index2]) # index of the sample image\n",
    "plt.show()"
   ]
  },
  {
   "cell_type": "markdown",
   "metadata": {},
   "source": [
    "Our workflow will be as follow:\n",
    "\n",
    "1. We will construct the model, defining a simple structure of the neural network consisting of two layers dense layers.\n",
    "2. We present our neural network with the training data, `train_images` and `train_labels` to train it to associate input images and output labels (desired output).\n",
    "3. Finally, we will ask the network to produce predictions for `test_images`, and we will verify if these predictions match the labels from `test_labels`.\n",
    "\n",
    "Let's build our neural network:"
   ]
  },
  {
   "cell_type": "code",
   "execution_count": 7,
   "metadata": {
    "pycharm": {
     "is_executing": true
    }
   },
   "outputs": [],
   "source": [
    "from keras import models\n",
    "from keras import layers\n",
    "\n",
    "num_classes = 10\n",
    "\n",
    "network = models.Sequential()\n",
    "network.add(layers.Dense(256, activation='relu', input_shape=(28 * 28,)))\n",
    "network.add(layers.Dense(num_classes, activation='softmax'))"
   ]
  },
  {
   "cell_type": "code",
   "execution_count": 8,
   "metadata": {
    "pycharm": {
     "is_executing": true
    }
   },
   "outputs": [
    {
     "name": "stdout",
     "output_type": "stream",
     "text": [
      "Model: \"sequential\"\n",
      "_________________________________________________________________\n",
      "Layer (type)                 Output Shape              Param #   \n",
      "=================================================================\n",
      "dense (Dense)                (None, 256)               200960    \n",
      "_________________________________________________________________\n",
      "dense_1 (Dense)              (None, 10)                2570      \n",
      "=================================================================\n",
      "Total params: 203,530\n",
      "Trainable params: 203,530\n",
      "Non-trainable params: 0\n",
      "_________________________________________________________________\n",
      "None\n"
     ]
    }
   ],
   "source": [
    "# Now print the full model summary, which indicates the layers and the number of parameters\n",
    "print(network.summary())"
   ]
  },
  {
   "cell_type": "markdown",
   "metadata": {},
   "source": [
    "The core building block of neural networks is the <b>layer</b>, a data-processing module which you can conceive as a <b>filter</b> for data. Each layer contains a number of computational units (<b>neurons</b>). In every layer, some \n",
    "data comes in, and comes out.\n",
    "\n",
    "Our simple network consists of a sequence of two `Dense` layers, which are densely-connected (also called \"fully-connected\") neural layers, i.e. neurons are connected using all-to-all approach:\n",
    "The first (hidden) layer consists of 256 neurons using `relu` activation function and taking data from the input shape (tensor) of images defined as 28 by 28 pixels.\n",
    "The second (last and output) layer is a 10-way `softmax` layer, which returns an array of 10 probability scores (all summing to 1). Each score will be the probability that the currently presented digit image belongs to one of 10 digit classes, i.e. how much the input image is similar to the output class (cathegory).\n",
    "\n",
    "To make our network ready for training, we need to pick three more things:\n",
    "\n",
    "* An optimizer (here `rmsprop`) that is the mechanism through which the network will update itself based on the data and its loss function. There are different mechanisms that can control the training process.\n",
    "* A loss function (here `categorical_crossentropy`), defining how the network will measure how good the training data are trained, and thus how much it should steer itself in the right direction. This function (defining the current error of the network) is minimized during the training process.\n",
    "* Metrics to monitor training and testing processes. Here, we will only care about `accuracy`, i.e. the fraction of the images that were correctly classified."
   ]
  },
  {
   "cell_type": "code",
   "execution_count": 9,
   "metadata": {},
   "outputs": [],
   "source": [
    "network.compile(optimizer='rmsprop',\n",
    "                loss='categorical_crossentropy',\n",
    "                metrics=['accuracy'])"
   ]
  },
  {
   "cell_type": "markdown",
   "metadata": {},
   "source": [
    "Our training images were loaded into an array of shape `(60000, 28, 28)` of type `uint8` with values in the `[0, 255]` interval.\n",
    "\n",
    "Before training, we must reshape our data it into the shape that the network requires and scale them into the `[0, 1]` interval. We transform them into a `float32` array of shape `(60000, 28 * 28)` with values between 0 and 1."
   ]
  },
  {
   "cell_type": "code",
   "execution_count": 10,
   "metadata": {},
   "outputs": [],
   "source": [
    "train_images = train_images.reshape((60000, 28 * 28))\n",
    "train_images = train_images.astype('float32') / 255\n",
    "\n",
    "test_images = test_images.reshape((10000, 28 * 28))\n",
    "test_images = test_images.astype('float32') / 255"
   ]
  },
  {
   "cell_type": "markdown",
   "metadata": {},
   "source": [
    "We also need to categorically encode the labels, which were loaded as numbers from 0 to 9:"
   ]
  },
  {
   "cell_type": "code",
   "execution_count": 11,
   "metadata": {},
   "outputs": [],
   "source": [
    "from keras.utils import to_categorical\n",
    "\n",
    "train_labels = keras.utils.to_categorical(train_labels, num_classes)\n",
    "test_labels = keras.utils.to_categorical(test_labels, num_classes)"
   ]
  },
  {
   "cell_type": "markdown",
   "metadata": {},
   "source": [
    "Now, we are ready to train our first network. This will be done via the `fit` method, which will train the network to \"fit\" our model to its training data.\n",
    "\n",
    "The networks are trained in multiple epochs, so we have to define, how many epochs will be processed do train our model.\n",
    "We also should define the size of mini-batches used for training the network in one step, which influence the training speed and its stability."
   ]
  },
  {
   "cell_type": "code",
   "execution_count": 12,
   "metadata": {},
   "outputs": [
    {
     "name": "stdout",
     "output_type": "stream",
     "text": [
      "Epoch 1/10\n",
      "469/469 [==============================] - 3s 3ms/step - loss: 0.4848 - accuracy: 0.8636\n",
      "Epoch 2/10\n",
      "469/469 [==============================] - 2s 3ms/step - loss: 0.1359 - accuracy: 0.9608\n",
      "Epoch 3/10\n",
      "469/469 [==============================] - 2s 3ms/step - loss: 0.0862 - accuracy: 0.9744\n",
      "Epoch 4/10\n",
      "469/469 [==============================] - 2s 3ms/step - loss: 0.0665 - accuracy: 0.9805\n",
      "Epoch 5/10\n",
      "469/469 [==============================] - 2s 3ms/step - loss: 0.0478 - accuracy: 0.9856\n",
      "Epoch 6/10\n",
      "469/469 [==============================] - 2s 3ms/step - loss: 0.0384 - accuracy: 0.9889\n",
      "Epoch 7/10\n",
      "469/469 [==============================] - 2s 3ms/step - loss: 0.0300 - accuracy: 0.9917\n",
      "Epoch 8/10\n",
      "469/469 [==============================] - 2s 3ms/step - loss: 0.0235 - accuracy: 0.9936\n",
      "Epoch 9/10\n",
      "469/469 [==============================] - 2s 3ms/step - loss: 0.0205 - accuracy: 0.9944\n",
      "Epoch 10/10\n",
      "469/469 [==============================] - 2s 3ms/step - loss: 0.0147 - accuracy: 0.9962\n"
     ]
    }
   ],
   "source": [
    "epochs = 10        # the number of training epochs\n",
    "batch_size = 128  # the size of mini-batches used for training the network in one step\n",
    "history = network.fit(train_images, train_labels, epochs = epochs, batch_size = batch_size)"
   ]
  },
  {
   "cell_type": "markdown",
   "metadata": {},
   "source": [
    "Two quantities are being displayed during training: the <b>loss</b> and the <b>accuracy</b> of the network over the training data. As we can see, we quickly reached a marvelous accuracy of almost 100% on the training data, but let's check how our model performs on the test set? Therefor, we need to `evaluate` the method on the test data:"
   ]
  },
  {
   "cell_type": "code",
   "execution_count": 13,
   "metadata": {},
   "outputs": [
    {
     "name": "stdout",
     "output_type": "stream",
     "text": [
      "313/313 [==============================] - 1s 2ms/step - loss: 0.0704 - accuracy: 0.9801\n"
     ]
    }
   ],
   "source": [
    "# Evaluate the model and print out the final scores for the test set\n",
    "#score = network.evaluate(test_images, test_labels, verbose=0)  # evaluate the model on the test set\n",
    "#print('Test loss:', score[0])      # print out the test_loss = score[0] (generalization error) \n",
    "#print('Test accuracy:', score[1])  # print out the test_acc = score[1] of the model on test set\n",
    "\n",
    "# Evaluate the model and print out the final scores for the test set\n",
    "test_loss, test_acc = network.evaluate(test_images, test_labels)"
   ]
  },
  {
   "cell_type": "code",
   "execution_count": 14,
   "metadata": {},
   "outputs": [
    {
     "name": "stdout",
     "output_type": "stream",
     "text": [
      "test_acc: 0.9800999760627747\n"
     ]
    }
   ],
   "source": [
    "print('test_acc:', test_acc)"
   ]
  },
  {
   "cell_type": "markdown",
   "metadata": {},
   "source": [
    "Our test set accuracy turns out to be about 98% -- that is only 2% lower than the training set accuracy. This result is generally not bad taking into account that we used a very simple model. However, we will try to get a better result later.\n",
    "This gap between training accuracy and test accuracy is called <b>variance</b> and defines <b>overfitting</b> of the model, i.e. how much the model tends to perform worse on new (test) data than on the training data.\n",
    "\n",
    "Let's view the history of the training on the chart:"
   ]
  },
  {
   "cell_type": "code",
   "execution_count": 15,
   "metadata": {},
   "outputs": [
    {
     "data": {
      "image/png": "[encoded data removed]",
      "text/plain": [
       "<Figure size 1080x360 with 1 Axes>"
      ]
     },
     "metadata": {
      "needs_background": "light"
     },
     "output_type": "display_data"
    }
   ],
   "source": [
    "# Plot training & validation accuracy values: https://keras.io/visualization/#training-history-visualization\n",
    "plt.rcParams['figure.figsize'] = (15.0, 5.0) # set default size of plots\n",
    "plt.plot(history.history['accuracy']) # The history object gets returned by the fit method of models.\n",
    "plt.title('Model accuracy')\n",
    "plt.ylabel('Accuracy')\n",
    "plt.xlabel('Epoch')\n",
    "plt.legend(['Train', 'Test'], loc='upper left')\n",
    "plt.show()"
   ]
  },
  {
   "cell_type": "markdown",
   "metadata": {},
   "source": [
    "As we can see, the convergence of the model to the high accuracy results on the training data was pretty fast!"
   ]
  },
  {
   "cell_type": "code",
   "execution_count": 17,
   "metadata": {},
   "outputs": [],
   "source": [
    "import seaborn as sns\n",
    "from sklearn import metrics\n",
    "from sklearn.metrics import confusion_matrix, classification_report\n",
    "LABELS= ['0', '1', '2', '3', '4', '5', '6', '7', '8', '9']\n",
    "\n",
    "# Define the confusion matrix for the results\n",
    "def show_confusion_matrix(validations, predictions, num_classes):\n",
    "    matrix = metrics.confusion_matrix(validations, predictions)\n",
    "    plt.figure(figsize=(num_classes, num_classes))\n",
    "    hm = sns.heatmap(matrix,\n",
    "                cmap='coolwarm',\n",
    "                linecolor='white',\n",
    "                linewidths=1,\n",
    "                xticklabels=LABELS,\n",
    "                yticklabels=LABELS,\n",
    "                annot=True,\n",
    "                fmt='d')\n",
    "    plt.yticks(rotation = 0)  # Don't rotate (vertically) the y-axis labels\n",
    "    hm.set_ylim(0, len(matrix))\n",
    "    plt.title('Confusion Matrix')\n",
    "    plt.ylabel('True Label')\n",
    "    plt.xlabel('Predicted Label')\n",
    "    plt.show()"
   ]
  },
  {
   "cell_type": "code",
   "execution_count": 18,
   "metadata": {},
   "outputs": [
    {
     "data": {
      "image/png": "[encoded data removed]",
      "text/plain": [
       "<Figure size 720x720 with 2 Axes>"
      ]
     },
     "metadata": {
      "needs_background": "light"
     },
     "output_type": "display_data"
    },
    {
     "name": "stdout",
     "output_type": "stream",
     "text": [
      "              precision    recall  f1-score   support\n",
      "\n",
      "           0       0.98      0.99      0.99       980\n",
      "           1       0.99      0.99      0.99      1135\n",
      "           2       0.98      0.97      0.97      1032\n",
      "           3       0.98      0.98      0.98      1010\n",
      "           4       0.97      0.99      0.98       982\n",
      "           5       0.98      0.98      0.98       892\n",
      "           6       0.99      0.97      0.98       958\n",
      "           7       0.96      0.99      0.98      1028\n",
      "           8       0.97      0.98      0.97       974\n",
      "           9       0.99      0.96      0.97      1009\n",
      "\n",
      "    accuracy                           0.98     10000\n",
      "   macro avg       0.98      0.98      0.98     10000\n",
      "weighted avg       0.98      0.98      0.98     10000\n",
      "\n"
     ]
    }
   ],
   "source": [
    "import numpy as np\n",
    "\n",
    "# Use the trained model for predictions of the test data\n",
    "test_labels_pred = network.predict(test_images)\n",
    "\n",
    "# Take the class with the highest probability from the test predictions as a winning one\n",
    "max_test_labels_pred = np.argmax(test_labels_pred, axis=1)\n",
    "max_test_labels = np.argmax(test_labels, axis=1)\n",
    "\n",
    "# Show the confusion matrix of the collected results\n",
    "show_confusion_matrix(max_test_labels, max_test_labels_pred, num_classes=num_classes)\n",
    "\n",
    "# Print classification report\n",
    "print(classification_report(max_test_labels, max_test_labels_pred))"
   ]
  },
  {
   "cell_type": "markdown",
   "metadata": {},
   "source": [
    "# A binary classification example\n",
    "\n",
    "A binary classification (two-class classification) is a classification where the model learns to classify inputs into two oposite classes, e.g., something is \"positive\" or \"negative\".\n",
    "\n",
    "We will demontrate it on the problem of classifying movie reviews into \"positive\" reviews and \"negative\" reviews, just based on the text content (words) of the reviews.\n",
    "\n",
    "We use <a href=\"https://www.kaggle.com/lakshmi25npathi/imdb-dataset-of-50k-movie-reviews\">IMDB dataset</a> that consists of 50,000 highly-polarized reviews from the Internet Movie Database. They are split into 25,000 reviews for training and 25,000 reviews for testing, each set consisting in 50% negative and 50% positive reviews. So both the train set and test set are very well balanced, which is important as we explain in the further examples.\n",
    "\n",
    "We divide data into train set and test set to check the trained model performance on new (test) data (its generalization property) because even perfect performance on training data has no value as long as we do not get high performance on the test data. On the other hand, we could simply store the association between training data without training the model.\n",
    "\n",
    "The IMDB dataset is another dataset that is packaged with Keras. It has already been preprocessed: the reviews (sequences of words) have been turned into sequences of integers, where each integer stands for a specific word in a dictionary.\n",
    "\n",
    "The following code will load the dataset (when you run it for the first time, about 80MB of data will be downloaded to your computer). For our experiment (to value our time), we will use only 5000 thousand of the most frequently occurring words (`num_top_words=5000`) in the training data, so the rare words will be discarded:"
   ]
  },
  {
   "cell_type": "code",
   "execution_count": 20,
   "metadata": {},
   "outputs": [],
   "source": [
    "from keras.datasets import imdb\n",
    "\n",
    "num_top_words=5000\n",
    "(train_data, train_labels), (test_data, test_labels) = imdb.load_data(num_words=num_top_words)"
   ]
  },
  {
   "cell_type": "markdown",
   "metadata": {},
   "source": [
    "The variables `train_data` and `test_data` are lists of reviews. Each review is a list of word indices (encoding a sequence of words). \n",
    "\n",
    "The variables `train_labels` and `test_labels` are lists of 0s and 1s, where $0$ stands for \"negative\", and $1$ stands for \"positive\" review.\n",
    "\n",
    "Let's look at some train data - the word IDs of the first review (numbered starting from 0):"
   ]
  },
  {
   "cell_type": "code",
   "execution_count": 21,
   "metadata": {},
   "outputs": [
    {
     "data": {
      "text/plain": [
       "[1,\n",
       " 14,\n",
       " 22,\n",
       " 16,\n",
       " 43,\n",
       " 530,\n",
       " 973,\n",
       " 1622,\n",
       " 1385,\n",
       " 65,\n",
       " 458,\n",
       " 4468,\n",
       " 66,\n",
       " 3941,\n",
       " 4,\n",
       " 173,\n",
       " 36,\n",
       " 256,\n",
       " 5,\n",
       " 25,\n",
       " 100,\n",
       " 43,\n",
       " 838,\n",
       " 112,\n",
       " 50,\n",
       " 670,\n",
       " 2,\n",
       " 9,\n",
       " 35,\n",
       " 480,\n",
       " 284,\n",
       " 5,\n",
       " 150,\n",
       " 4,\n",
       " 172,\n",
       " 112,\n",
       " 167,\n",
       " 2,\n",
       " 336,\n",
       " 385,\n",
       " 39,\n",
       " 4,\n",
       " 172,\n",
       " 4536,\n",
       " 1111,\n",
       " 17,\n",
       " 546,\n",
       " 38,\n",
       " 13,\n",
       " 447,\n",
       " 4,\n",
       " 192,\n",
       " 50,\n",
       " 16,\n",
       " 6,\n",
       " 147,\n",
       " 2025,\n",
       " 19,\n",
       " 14,\n",
       " 22,\n",
       " 4,\n",
       " 1920,\n",
       " 4613,\n",
       " 469,\n",
       " 4,\n",
       " 22,\n",
       " 71,\n",
       " 87,\n",
       " 12,\n",
       " 16,\n",
       " 43,\n",
       " 530,\n",
       " 38,\n",
       " 76,\n",
       " 15,\n",
       " 13,\n",
       " 1247,\n",
       " 4,\n",
       " 22,\n",
       " 17,\n",
       " 515,\n",
       " 17,\n",
       " 12,\n",
       " 16,\n",
       " 626,\n",
       " 18,\n",
       " 2,\n",
       " 5,\n",
       " 62,\n",
       " 386,\n",
       " 12,\n",
       " 8,\n",
       " 316,\n",
       " 8,\n",
       " 106,\n",
       " 5,\n",
       " 4,\n",
       " 2223,\n",
       " 2,\n",
       " 16,\n",
       " 480,\n",
       " 66,\n",
       " 3785,\n",
       " 33,\n",
       " 4,\n",
       " 130,\n",
       " 12,\n",
       " 16,\n",
       " 38,\n",
       " 619,\n",
       " 5,\n",
       " 25,\n",
       " 124,\n",
       " 51,\n",
       " 36,\n",
       " 135,\n",
       " 48,\n",
       " 25,\n",
       " 1415,\n",
       " 33,\n",
       " 6,\n",
       " 22,\n",
       " 12,\n",
       " 215,\n",
       " 28,\n",
       " 77,\n",
       " 52,\n",
       " 5,\n",
       " 14,\n",
       " 407,\n",
       " 16,\n",
       " 82,\n",
       " 2,\n",
       " 8,\n",
       " 4,\n",
       " 107,\n",
       " 117,\n",
       " 2,\n",
       " 15,\n",
       " 256,\n",
       " 4,\n",
       " 2,\n",
       " 7,\n",
       " 3766,\n",
       " 5,\n",
       " 723,\n",
       " 36,\n",
       " 71,\n",
       " 43,\n",
       " 530,\n",
       " 476,\n",
       " 26,\n",
       " 400,\n",
       " 317,\n",
       " 46,\n",
       " 7,\n",
       " 4,\n",
       " 2,\n",
       " 1029,\n",
       " 13,\n",
       " 104,\n",
       " 88,\n",
       " 4,\n",
       " 381,\n",
       " 15,\n",
       " 297,\n",
       " 98,\n",
       " 32,\n",
       " 2071,\n",
       " 56,\n",
       " 26,\n",
       " 141,\n",
       " 6,\n",
       " 194,\n",
       " 2,\n",
       " 18,\n",
       " 4,\n",
       " 226,\n",
       " 22,\n",
       " 21,\n",
       " 134,\n",
       " 476,\n",
       " 26,\n",
       " 480,\n",
       " 5,\n",
       " 144,\n",
       " 30,\n",
       " 2,\n",
       " 18,\n",
       " 51,\n",
       " 36,\n",
       " 28,\n",
       " 224,\n",
       " 92,\n",
       " 25,\n",
       " 104,\n",
       " 4,\n",
       " 226,\n",
       " 65,\n",
       " 16,\n",
       " 38,\n",
       " 1334,\n",
       " 88,\n",
       " 12,\n",
       " 16,\n",
       " 283,\n",
       " 5,\n",
       " 16,\n",
       " 4472,\n",
       " 113,\n",
       " 103,\n",
       " 32,\n",
       " 15,\n",
       " 16,\n",
       " 2,\n",
       " 19,\n",
       " 178,\n",
       " 32]"
      ]
     },
     "execution_count": 21,
     "metadata": {},
     "output_type": "execute_result"
    }
   ],
   "source": [
    "train_data[0]"
   ]
  },
  {
   "cell_type": "markdown",
   "metadata": {},
   "source": [
    "Since we limited our dataset to the top 5,000 most frequent words, no word index will exceed 4,999. Let's check the maximum index in all sequences of the loaded train dataset:"
   ]
  },
  {
   "cell_type": "code",
   "execution_count": 22,
   "metadata": {},
   "outputs": [
    {
     "data": {
      "text/plain": [
       "4999"
      ]
     },
     "execution_count": 22,
     "metadata": {},
     "output_type": "execute_result"
    }
   ],
   "source": [
    "max([max(sequence) for sequence in train_data])"
   ]
  },
  {
   "cell_type": "markdown",
   "metadata": {},
   "source": [
    "We can decode one of these reviews back to English words:"
   ]
  },
  {
   "cell_type": "code",
   "execution_count": 24,
   "metadata": {},
   "outputs": [
    {
     "name": "stdout",
     "output_type": "stream",
     "text": [
      "? this film was just brilliant casting location scenery story direction everyone's really suited the part they played and you could just imagine being there robert ? is an amazing actor and now the same being director ? father came from the same scottish island as myself so i loved the fact there was a real connection with this film the witty remarks throughout the film were great it was just brilliant so much that i bought the film as soon as it was released for ? and would recommend it to everyone to watch and the fly ? was amazing really cried at the end it was so sad and you know what they say if you cry at a film it must have been good and this definitely was also ? to the two little ? that played the ? of norman and paul they were just brilliant children are often left out of the ? list i think because the stars that play them all grown up are such a big ? for the whole film but these children are amazing and should be ? for what they have done don't you think the whole story was so lovely because it was true and was someone's life after all that was ? with us all\n"
     ]
    }
   ],
   "source": [
    "# set the decoded review id:\n",
    "decoded_review_id = 0  # you can change it to read the other reviews\n",
    "# word_index is a dictionary mapping words to an integer index\n",
    "word_index = imdb.get_word_index()\n",
    "# We reverse it, mapping integer indices to words back\n",
    "reverse_word_index = dict([(value, key) for (key, value) in word_index.items()])\n",
    "# We decode the review; note that our indices were offset by 3\n",
    "# because 0, 1 and 2 are reserved indices for \"padding\", \"start of sequence\", and \"unknown\".\n",
    "decoded_review = ' '.join([reverse_word_index.get(i - 3, '?') for i in train_data[decoded_review_id]])\n",
    "print(decoded_review)"
   ]
  },
  {
   "cell_type": "markdown",
   "metadata": {},
   "source": [
    "## Preparing the data\n",
    "We usually have to prepare the data before using them to train the model.\n",
    "In this case, we have to turn our lists of words into tensors, which we can do in two different ways:\n",
    "* We could pad our lists so that they all have the same length, and turn them into an integer tensor of shape `(samples, word_indices)`. Then we use them as the first layer in the network which is capable of handling such integer tensors (the `Embedding` layer).\n",
    "* We could one-hot-encode our lists to turn them into vectors of 0s and 1s. For example, turning the sequence `[3, 5]` into a 5,000-dimensional vector that would be all-zeros except for indices 3 and 5, where there would be 1s. Then we could use as first layer in our network a `Dense` layer, capable of handling floating point vector data.\n",
    "\n",
    "Let's vectorize our data manually for maximum clarity:"
   ]
  },
  {
   "cell_type": "code",
   "execution_count": 25,
   "metadata": {},
   "outputs": [],
   "source": [
    "def vectorize_sequences(sequences, dimension=num_top_words):\n",
    "    # Create an all-zero matrix of shape (len(sequences), dimension)\n",
    "    results = np.zeros((len(sequences), dimension))\n",
    "    for i, sequence in enumerate(sequences):\n",
    "        # set specific indices of results[i] to 1s to indicate the words occurring in the sequence\n",
    "        results[i, sequence] = 1.\n",
    "    return results\n",
    "\n",
    "# Our vectorized training data\n",
    "x_train = vectorize_sequences(train_data)\n",
    "# Our vectorized test data\n",
    "x_test = vectorize_sequences(test_data)"
   ]
  },
  {
   "cell_type": "markdown",
   "metadata": {},
   "source": [
    "Let's look at the result:"
   ]
  },
  {
   "cell_type": "code",
   "execution_count": 26,
   "metadata": {},
   "outputs": [
    {
     "data": {
      "text/plain": [
       "array([0., 1., 1., ..., 0., 0., 0.])"
      ]
     },
     "execution_count": 26,
     "metadata": {},
     "output_type": "execute_result"
    }
   ],
   "source": [
    "x_train[0]"
   ]
  },
  {
   "cell_type": "markdown",
   "metadata": {},
   "source": [
    "We should also vectorize our labels:"
   ]
  },
  {
   "cell_type": "code",
   "execution_count": 27,
   "metadata": {},
   "outputs": [],
   "source": [
    "y_train = np.asarray(train_labels).astype('float32')\n",
    "y_test = np.asarray(test_labels).astype('float32')"
   ]
  },
  {
   "cell_type": "code",
   "execution_count": 28,
   "metadata": {},
   "outputs": [
    {
     "data": {
      "text/plain": [
       "1.0"
      ]
     },
     "execution_count": 28,
     "metadata": {},
     "output_type": "execute_result"
    }
   ],
   "source": [
    "y_train[0]"
   ]
  },
  {
   "cell_type": "markdown",
   "metadata": {},
   "source": [
    "Our input data are simply vectors, and our labels are scalars (0s and 2s). This is the easiest setup you will ever encounter."
   ]
  },
  {
   "cell_type": "markdown",
   "metadata": {},
   "source": [
    "## Neural network construction\n",
    "Now we are ready to create and fed a neural network with the prepared data, but how to construct a neural network optimally? How many layers to use? How many units in hidden layers to create? Hidden layers are all layers between inputs and the output layer of the network. In these layers we usually use a `relu` (rectified linear unit) function. In the output layer we can use a sigmoid which outputs are in `[0, 1]` interval, thus outputs can be interpreted as a probability of the class or similarity of the input to a given class."
   ]
  },
  {
   "cell_type": "code",
   "execution_count": 32,
   "metadata": {},
   "outputs": [
    {
     "name": "stdout",
     "output_type": "stream",
     "text": [
      "Model: \"sequential_4\"\n",
      "_________________________________________________________________\n",
      "Layer (type)                 Output Shape              Param #   \n",
      "=================================================================\n",
      "dense_11 (Dense)             (None, 16)                80016     \n",
      "_________________________________________________________________\n",
      "dense_12 (Dense)             (None, 8)                 136       \n",
      "_________________________________________________________________\n",
      "dense_13 (Dense)             (None, 1)                 9         \n",
      "=================================================================\n",
      "Total params: 80,161\n",
      "Trainable params: 80,161\n",
      "Non-trainable params: 0\n",
      "_________________________________________________________________\n"
     ]
    }
   ],
   "source": [
    "model1 = models.Sequential()\n",
    "model1.add(layers.Dense(16, activation='relu', input_shape=(num_top_words,)))\n",
    "model1.add(layers.Dense(8, activation='relu'))\n",
    "model1.add(layers.Dense(1, activation='sigmoid'))\n",
    "\n",
    "model1.summary()"
   ]
  },
  {
   "cell_type": "markdown",
   "metadata": {},
   "source": [
    "For binary classification, we can use `binary_crossentropy` as a loss function:"
   ]
  },
  {
   "cell_type": "code",
   "execution_count": 33,
   "metadata": {},
   "outputs": [],
   "source": [
    "from keras import optimizers\n",
    "\n",
    "model1.compile(optimizer=optimizers.RMSprop(lr=0.001),   # 'rmsprop'\n",
    "               loss='binary_crossentropy',\n",
    "               metrics=['accuracy'])"
   ]
  },
  {
   "cell_type": "markdown",
   "metadata": {},
   "source": [
    "## Gathering performance data and validating the model\n",
    "When validating a model, we should take care to separate a subset of test data which will never be used during training"
   ]
  },
  {
   "cell_type": "code",
   "execution_count": 34,
   "metadata": {},
   "outputs": [],
   "source": [
    "x_val = x_train[:num_top_words]\n",
    "partial_x_train = x_train[num_top_words:]\n",
    "\n",
    "y_val = y_train[:num_top_words]\n",
    "partial_y_train = y_train[num_top_words:]"
   ]
  },
  {
   "cell_type": "markdown",
   "metadata": {},
   "source": [
    "Let's learn our model and gather the temporary results in a `History` object to paint a chart later:"
   ]
  },
  {
   "cell_type": "code",
   "execution_count": 35,
   "metadata": {},
   "outputs": [
    {
     "name": "stdout",
     "output_type": "stream",
     "text": [
      "Epoch 1/20\n",
      "79/79 [==============================] - 3s 19ms/step - loss: 0.5630 - accuracy: 0.7468 - val_loss: 0.3530 - val_accuracy: 0.8674\n",
      "Epoch 2/20\n",
      "79/79 [==============================] - 1s 7ms/step - loss: 0.2917 - accuracy: 0.9015 - val_loss: 0.2845 - val_accuracy: 0.8878\n",
      "Epoch 3/20\n",
      "79/79 [==============================] - 1s 7ms/step - loss: 0.2211 - accuracy: 0.9197 - val_loss: 0.2872 - val_accuracy: 0.8846\n",
      "Epoch 4/20\n",
      "79/79 [==============================] - 1s 7ms/step - loss: 0.1911 - accuracy: 0.9310 - val_loss: 0.2902 - val_accuracy: 0.8890\n",
      "Epoch 5/20\n",
      "79/79 [==============================] - 1s 7ms/step - loss: 0.1644 - accuracy: 0.9396 - val_loss: 0.3195 - val_accuracy: 0.8734\n",
      "Epoch 6/20\n",
      "79/79 [==============================] - 1s 7ms/step - loss: 0.1531 - accuracy: 0.9437 - val_loss: 0.3133 - val_accuracy: 0.8834\n",
      "Epoch 7/20\n",
      "79/79 [==============================] - 1s 7ms/step - loss: 0.1334 - accuracy: 0.9544 - val_loss: 0.3347 - val_accuracy: 0.8740\n",
      "Epoch 8/20\n",
      "79/79 [==============================] - 1s 7ms/step - loss: 0.1158 - accuracy: 0.9602 - val_loss: 0.3602 - val_accuracy: 0.8780\n",
      "Epoch 9/20\n",
      "79/79 [==============================] - 1s 7ms/step - loss: 0.0997 - accuracy: 0.9677 - val_loss: 0.4113 - val_accuracy: 0.8606\n",
      "Epoch 10/20\n",
      "79/79 [==============================] - 1s 7ms/step - loss: 0.0841 - accuracy: 0.9710 - val_loss: 0.3852 - val_accuracy: 0.8752\n",
      "Epoch 11/20\n",
      "79/79 [==============================] - 1s 7ms/step - loss: 0.0701 - accuracy: 0.9775 - val_loss: 0.4127 - val_accuracy: 0.8740\n",
      "Epoch 12/20\n",
      "79/79 [==============================] - 1s 7ms/step - loss: 0.0585 - accuracy: 0.9819 - val_loss: 0.4596 - val_accuracy: 0.8616\n",
      "Epoch 13/20\n",
      "79/79 [==============================] - 1s 7ms/step - loss: 0.0489 - accuracy: 0.9862 - val_loss: 0.4668 - val_accuracy: 0.8708\n",
      "Epoch 14/20\n",
      "79/79 [==============================] - 1s 7ms/step - loss: 0.0389 - accuracy: 0.9906 - val_loss: 0.4877 - val_accuracy: 0.8656\n",
      "Epoch 15/20\n",
      "79/79 [==============================] - 1s 7ms/step - loss: 0.0320 - accuracy: 0.9924 - val_loss: 0.5233 - val_accuracy: 0.8652\n",
      "Epoch 16/20\n",
      "79/79 [==============================] - 1s 7ms/step - loss: 0.0236 - accuracy: 0.9953 - val_loss: 0.6095 - val_accuracy: 0.8586\n",
      "Epoch 17/20\n",
      "79/79 [==============================] - 1s 7ms/step - loss: 0.0202 - accuracy: 0.9956 - val_loss: 0.6940 - val_accuracy: 0.8516\n",
      "Epoch 18/20\n",
      "79/79 [==============================] - 1s 7ms/step - loss: 0.0144 - accuracy: 0.9980 - val_loss: 0.6391 - val_accuracy: 0.8626\n",
      "Epoch 19/20\n",
      "79/79 [==============================] - 1s 7ms/step - loss: 0.0106 - accuracy: 0.9986 - val_loss: 0.7056 - val_accuracy: 0.8610\n",
      "Epoch 20/20\n",
      "79/79 [==============================] - 1s 7ms/step - loss: 0.0070 - accuracy: 0.9993 - val_loss: 0.7628 - val_accuracy: 0.8590\n"
     ]
    }
   ],
   "source": [
    "history1 = model1.fit(partial_x_train,\n",
    "                      partial_y_train,\n",
    "                      epochs=20,\n",
    "                      batch_size=256,\n",
    "                      validation_data=(x_val, y_val))"
   ]
  },
  {
   "cell_type": "markdown",
   "metadata": {},
   "source": [
    "What results are stored in the `History` object?"
   ]
  },
  {
   "cell_type": "code",
   "execution_count": 36,
   "metadata": {},
   "outputs": [
    {
     "data": {
      "text/plain": [
       "dict_keys(['loss', 'accuracy', 'val_loss', 'val_accuracy'])"
      ]
     },
     "execution_count": 36,
     "metadata": {},
     "output_type": "execute_result"
    }
   ],
   "source": [
    "history1_dict = history1.history\n",
    "history1_dict.keys()"
   ]
  },
  {
   "cell_type": "markdown",
   "metadata": {},
   "source": [
    "Let's look at how the loss and accuracy change for train and test data during the training:"
   ]
  },
  {
   "cell_type": "code",
   "execution_count": 37,
   "metadata": {},
   "outputs": [],
   "source": [
    "def PlotLossComparison():\n",
    "    plt.clf()   # clear figure\n",
    "    #loss = history1_dict['loss']\n",
    "    #val_loss = history1_dict['val_loss']\n",
    "    epochs = range(len(loss1))\n",
    "    # \"bo\" is for \"blue dot\"\n",
    "    plt.plot(epochs, loss1, 'bo', label='Training loss')\n",
    "    # b is for \"solid red line\"\n",
    "    plt.plot(epochs, val_loss1, 'b', label='Validation loss')\n",
    "    plt.title('Training and validation loss')\n",
    "    plt.xlabel('Epochs')\n",
    "    plt.ylabel('Loss')\n",
    "    plt.legend()\n",
    "    plt.show()"
   ]
  },
  {
   "cell_type": "code",
   "execution_count": 38,
   "metadata": {},
   "outputs": [
    {
     "data": {
      "image/png": "[encoded data removed]",
      "text/plain": [
       "<Figure size 1080x360 with 1 Axes>"
      ]
     },
     "metadata": {
      "needs_background": "light"
     },
     "output_type": "display_data"
    }
   ],
   "source": [
    "loss1 = history1_dict['loss']\n",
    "val_loss1 = history1_dict['val_loss']\n",
    "\n",
    "PlotLossComparison()"
   ]
  },
  {
   "cell_type": "code",
   "execution_count": 39,
   "metadata": {},
   "outputs": [],
   "source": [
    "def PlotAccuracyComparison():\n",
    "    plt.clf()   # clear figure\n",
    "    #acc = history1_dict['accuracy']\n",
    "    #val_acc = history1_dict['val_accuracy']\n",
    "    epochs = range(len(acc1))\n",
    "    plt.plot(epochs, acc1, 'bo', label='Training accuracy')\n",
    "    plt.plot(epochs, val_acc1, 'b', label='Validation accuracy')\n",
    "    plt.title('Training and validation accuracy')\n",
    "    plt.xlabel('Epochs')\n",
    "    plt.ylabel('Accuracy')\n",
    "    plt.legend()\n",
    "    plt.show()"
   ]
  },
  {
   "cell_type": "code",
   "execution_count": 40,
   "metadata": {},
   "outputs": [
    {
     "data": {
      "image/png": "[encoded data removed]",
      "text/plain": [
       "<Figure size 1080x360 with 1 Axes>"
      ]
     },
     "metadata": {
      "needs_background": "light"
     },
     "output_type": "display_data"
    }
   ],
   "source": [
    "acc1 = history1_dict['accuracy']\n",
    "val_acc1 = history1_dict['val_accuracy']\n",
    "\n",
    "PlotAccuracyComparison()"
   ]
  },
  {
   "cell_type": "markdown",
   "metadata": {},
   "source": [
    "## Overfitting\n",
    "The presented charts show that our model starts to overfit after three training epochs. We say that it has big variance. The training loss falls down and the training accuraccy increases, while the validation loss rise up and the validation accuraccy drops down.\n",
    "\n",
    "It means that our model is not enough good for this dataset. The designer should be able to cope with such problems and reconstruct the model to decrease the variance as much as possible, achieving good generalization property of the model. On the other hand, the model will be useless!\n",
    "\n",
    "What we can do to increase the model performance on the validation data?\n",
    "\n",
    "Try to use:\n",
    "* less (1) or more (3 or 4) hidden layers; \n",
    "* layers with more or less hidden units, e.g.: 16, 32 or 64 units;\n",
    "* the `mse` loss function instead of `binary_crossentropy`;\n",
    "* the `tanh` activation instead of `relu`;\n",
    "* more training data;\n",
    "and see how it affects validation and test accuracy.\n",
    "\n",
    "Perform these changes separately, to notice which change (of the hiperparameter) improves the results?"
   ]
  },
  {
   "cell_type": "code",
   "execution_count": 42,
   "metadata": {},
   "outputs": [
    {
     "name": "stdout",
     "output_type": "stream",
     "text": [
      "Model: \"sequential_6\"\n",
      "_________________________________________________________________\n",
      "Layer (type)                 Output Shape              Param #   \n",
      "=================================================================\n",
      "dense_17 (Dense)             (None, 8)                 40008     \n",
      "_________________________________________________________________\n",
      "dense_18 (Dense)             (None, 8)                 72        \n",
      "_________________________________________________________________\n",
      "dense_19 (Dense)             (None, 1)                 9         \n",
      "=================================================================\n",
      "Total params: 40,089\n",
      "Trainable params: 40,089\n",
      "Non-trainable params: 0\n",
      "_________________________________________________________________\n"
     ]
    }
   ],
   "source": [
    "model2 = models.Sequential()\n",
    "model2.add(layers.Dense(8, activation='relu', input_shape=(num_top_words,)))\n",
    "model2.add(layers.Dense(8, activation='relu'))\n",
    "model2.add(layers.Dense(1, activation='sigmoid'))\n",
    "\n",
    "model2.summary()"
   ]
  },
  {
   "cell_type": "code",
   "execution_count": 43,
   "metadata": {},
   "outputs": [],
   "source": [
    "model2.compile(optimizer=optimizers.RMSprop(lr=0.001),   # 'rmsprop'\n",
    "               loss='binary_crossentropy',\n",
    "               metrics=['accuracy'])"
   ]
  },
  {
   "cell_type": "code",
   "execution_count": 44,
   "metadata": {},
   "outputs": [
    {
     "name": "stdout",
     "output_type": "stream",
     "text": [
      "Epoch 1/20\n",
      "79/79 [==============================] - 5s 15ms/step - loss: 0.5523 - accuracy: 0.7615 - val_loss: 0.3474 - val_accuracy: 0.8716\n",
      "Epoch 2/20\n",
      "79/79 [==============================] - 1s 7ms/step - loss: 0.2940 - accuracy: 0.9003 - val_loss: 0.3256 - val_accuracy: 0.8694\n",
      "Epoch 3/20\n",
      "79/79 [==============================] - 1s 7ms/step - loss: 0.2339 - accuracy: 0.9156 - val_loss: 0.2830 - val_accuracy: 0.8900\n",
      "Epoch 4/20\n",
      "79/79 [==============================] - 1s 7ms/step - loss: 0.2002 - accuracy: 0.9261 - val_loss: 0.2800 - val_accuracy: 0.8868\n",
      "Epoch 5/20\n",
      "79/79 [==============================] - 1s 7ms/step - loss: 0.1810 - accuracy: 0.9347 - val_loss: 0.2948 - val_accuracy: 0.8892\n",
      "Epoch 6/20\n",
      "79/79 [==============================] - 1s 7ms/step - loss: 0.1708 - accuracy: 0.9398 - val_loss: 0.2991 - val_accuracy: 0.8870\n",
      "Epoch 7/20\n",
      "79/79 [==============================] - 1s 7ms/step - loss: 0.1596 - accuracy: 0.9442 - val_loss: 0.3278 - val_accuracy: 0.8736\n",
      "Epoch 8/20\n",
      "79/79 [==============================] - 1s 7ms/step - loss: 0.1493 - accuracy: 0.9465 - val_loss: 0.3268 - val_accuracy: 0.8816\n",
      "Epoch 9/20\n",
      "79/79 [==============================] - 1s 7ms/step - loss: 0.1475 - accuracy: 0.9469 - val_loss: 0.3319 - val_accuracy: 0.8802\n",
      "Epoch 10/20\n",
      "79/79 [==============================] - 1s 7ms/step - loss: 0.1351 - accuracy: 0.9534 - val_loss: 0.3493 - val_accuracy: 0.8770\n",
      "Epoch 11/20\n",
      "79/79 [==============================] - 1s 8ms/step - loss: 0.1281 - accuracy: 0.9537 - val_loss: 0.3789 - val_accuracy: 0.8678\n",
      "Epoch 12/20\n",
      "79/79 [==============================] - 1s 7ms/step - loss: 0.1254 - accuracy: 0.9545 - val_loss: 0.3783 - val_accuracy: 0.8748\n",
      "Epoch 13/20\n",
      "79/79 [==============================] - 1s 8ms/step - loss: 0.1185 - accuracy: 0.9582 - val_loss: 0.3879 - val_accuracy: 0.8704\n",
      "Epoch 14/20\n",
      "79/79 [==============================] - 1s 8ms/step - loss: 0.1183 - accuracy: 0.9572 - val_loss: 0.4022 - val_accuracy: 0.8710\n",
      "Epoch 15/20\n",
      "79/79 [==============================] - 1s 7ms/step - loss: 0.1074 - accuracy: 0.9655 - val_loss: 0.4238 - val_accuracy: 0.8652\n",
      "Epoch 16/20\n",
      "79/79 [==============================] - 1s 7ms/step - loss: 0.1064 - accuracy: 0.9635 - val_loss: 0.4423 - val_accuracy: 0.8638\n",
      "Epoch 17/20\n",
      "79/79 [==============================] - 1s 8ms/step - loss: 0.1014 - accuracy: 0.9642 - val_loss: 0.4585 - val_accuracy: 0.8630\n",
      "Epoch 18/20\n",
      "79/79 [==============================] - 1s 7ms/step - loss: 0.0983 - accuracy: 0.9668 - val_loss: 0.4602 - val_accuracy: 0.8646\n",
      "Epoch 19/20\n",
      "79/79 [==============================] - 1s 8ms/step - loss: 0.0925 - accuracy: 0.9697 - val_loss: 0.4715 - val_accuracy: 0.8658\n",
      "Epoch 20/20\n",
      "79/79 [==============================] - 1s 7ms/step - loss: 0.0936 - accuracy: 0.9690 - val_loss: 0.4898 - val_accuracy: 0.8642\n"
     ]
    },
    {
     "data": {
      "text/plain": [
       "dict_keys(['loss', 'accuracy', 'val_loss', 'val_accuracy'])"
      ]
     },
     "execution_count": 44,
     "metadata": {},
     "output_type": "execute_result"
    }
   ],
   "source": [
    "history2 = model2.fit(partial_x_train,\n",
    "                      partial_y_train,\n",
    "                      epochs=20,\n",
    "                      batch_size=256,\n",
    "                      validation_data=(x_val, y_val))\n",
    "history2_dict = history2.history\n",
    "history2_dict.keys()"
   ]
  },
  {
   "cell_type": "code",
   "execution_count": 45,
   "metadata": {},
   "outputs": [],
   "source": [
    "def PlotTwoLossComparison():\n",
    "    plt.clf()   # clear figure\n",
    "    epochs = range(len(loss1))\n",
    "    plt.plot(epochs, loss1, 'bo', label='Training loss 1')\n",
    "    plt.plot(epochs, loss2, 'ro', label='Training loss 2')\n",
    "    plt.plot(epochs, val_loss1, 'b', label='Validation loss 1')\n",
    "    plt.plot(epochs, val_loss2, 'r', label='Validation loss 2')\n",
    "    plt.title('Training and validation loss comparison')\n",
    "    plt.xlabel('Epochs')\n",
    "    plt.ylabel('Loss')\n",
    "    plt.legend()\n",
    "    plt.show()"
   ]
  },
  {
   "cell_type": "code",
   "execution_count": 46,
   "metadata": {},
   "outputs": [
    {
     "data": {
      "image/png": "[encoded data removed]",
      "text/plain": [
       "<Figure size 1080x360 with 1 Axes>"
      ]
     },
     "metadata": {
      "needs_background": "light"
     },
     "output_type": "display_data"
    }
   ],
   "source": [
    "#loss1 = history1_dict['loss']\n",
    "loss2 = history2_dict['loss']\n",
    "#val_loss1 = history1_dict['val_loss']\n",
    "val_loss2 = history2_dict['val_loss']\n",
    "\n",
    "PlotTwoLossComparison()"
   ]
  },
  {
   "cell_type": "code",
   "execution_count": 47,
   "metadata": {},
   "outputs": [],
   "source": [
    "def PlotTwoAccuracyComparison():\n",
    "    plt.clf()   # clear figure\n",
    "    #acc = history1_dict['accuracy']\n",
    "    #val_acc = history1_dict['val_accuracy']\n",
    "    epochs = range(len(acc1))\n",
    "    plt.plot(epochs, acc1, 'bo', label='Training accuracy')\n",
    "    plt.plot(epochs, val_acc1, 'b', label='Validation accuracy')\n",
    "    plt.title('Training and validation accuracy')\n",
    "    plt.xlabel('Epochs')\n",
    "    plt.ylabel('Accuracy')\n",
    "    plt.legend()\n",
    "    plt.show()"
   ]
  },
  {
   "cell_type": "code",
   "execution_count": 48,
   "metadata": {},
   "outputs": [
    {
     "data": {
      "image/png": "[encoded data removed]",
      "text/plain": [
       "<Figure size 1080x360 with 1 Axes>"
      ]
     },
     "metadata": {
      "needs_background": "light"
     },
     "output_type": "display_data"
    }
   ],
   "source": [
    "acc2 = history2_dict['accuracy']\n",
    "val_acc2 = history2_dict['val_accuracy']\n",
    "\n",
    "PlotTwoAccuracyComparison()"
   ]
  },
  {
   "cell_type": "markdown",
   "metadata": {},
   "source": [
    "Make conclusions about changes in hyperparameters and try to build the models which perform better than the first one!"
   ]
  },
  {
   "cell_type": "markdown",
   "metadata": {},
   "source": [
    "# A multi-class classification example\n",
    "\n",
    "A multi-class classification is a classification where the model learns to classify inputs into more than two classes, like for ten classes of MNIST dataset. Here we would try to classify the input (data point) into only one category (class). This problem is more specifically an instance of <b>single-label, multi-class classification</b>. On the other hand, if each data point could be belonged to multiple categories, then we would be facing a <b>multi-label, multi-class classification</b> problem."
   ]
  },
  {
   "cell_type": "markdown",
   "metadata": {},
   "source": [
    "## The Reuters dataset\n",
    "\n",
    "We will be working with the Reuters dataset, a set of short newswires and their topics, published by Reuters in 1986. It's a very simple, widely used toy dataset for text classification. There are 46 different topics. Some topics are more frequently represented than others, but each topic has at least 10 examples in the training set.\n",
    "\n",
    "Let's take a look at this dataset packaged as part of Keras right away. We will also limit the data to the 5,000 of the most frequently occurring words."
   ]
  },
  {
   "cell_type": "code",
   "execution_count": 50,
   "metadata": {},
   "outputs": [],
   "source": [
    "from keras.datasets import reuters\n",
    "\n",
    "num_top_words=5000\n",
    "(train_data, train_labels), (test_data, test_labels) = reuters.load_data(num_words=num_top_words)\n",
    "no_classes = 46"
   ]
  },
  {
   "cell_type": "markdown",
   "metadata": {},
   "source": [
    "We have 8,982 training examples and 2,246 test examples:"
   ]
  },
  {
   "cell_type": "code",
   "execution_count": 51,
   "metadata": {},
   "outputs": [
    {
     "data": {
      "text/plain": [
       "8982"
      ]
     },
     "execution_count": 51,
     "metadata": {},
     "output_type": "execute_result"
    }
   ],
   "source": [
    "len(train_data)"
   ]
  },
  {
   "cell_type": "code",
   "execution_count": 52,
   "metadata": {},
   "outputs": [
    {
     "data": {
      "text/plain": [
       "2246"
      ]
     },
     "execution_count": 52,
     "metadata": {},
     "output_type": "execute_result"
    }
   ],
   "source": [
    "len(test_data)"
   ]
  },
  {
   "cell_type": "markdown",
   "metadata": {},
   "source": [
    "Each example is a list of integers (word indices), e.g.:"
   ]
  },
  {
   "cell_type": "code",
   "execution_count": 53,
   "metadata": {},
   "outputs": [
    {
     "data": {
      "text/plain": [
       "[1,\n",
       " 2,\n",
       " 2,\n",
       " 8,\n",
       " 43,\n",
       " 10,\n",
       " 447,\n",
       " 5,\n",
       " 25,\n",
       " 207,\n",
       " 270,\n",
       " 5,\n",
       " 3095,\n",
       " 111,\n",
       " 16,\n",
       " 369,\n",
       " 186,\n",
       " 90,\n",
       " 67,\n",
       " 7,\n",
       " 89,\n",
       " 5,\n",
       " 19,\n",
       " 102,\n",
       " 6,\n",
       " 19,\n",
       " 124,\n",
       " 15,\n",
       " 90,\n",
       " 67,\n",
       " 84,\n",
       " 22,\n",
       " 482,\n",
       " 26,\n",
       " 7,\n",
       " 48,\n",
       " 4,\n",
       " 49,\n",
       " 8,\n",
       " 864,\n",
       " 39,\n",
       " 209,\n",
       " 154,\n",
       " 6,\n",
       " 151,\n",
       " 6,\n",
       " 83,\n",
       " 11,\n",
       " 15,\n",
       " 22,\n",
       " 155,\n",
       " 11,\n",
       " 15,\n",
       " 7,\n",
       " 48,\n",
       " 9,\n",
       " 4579,\n",
       " 1005,\n",
       " 504,\n",
       " 6,\n",
       " 258,\n",
       " 6,\n",
       " 272,\n",
       " 11,\n",
       " 15,\n",
       " 22,\n",
       " 134,\n",
       " 44,\n",
       " 11,\n",
       " 15,\n",
       " 16,\n",
       " 8,\n",
       " 197,\n",
       " 1245,\n",
       " 90,\n",
       " 67,\n",
       " 52,\n",
       " 29,\n",
       " 209,\n",
       " 30,\n",
       " 32,\n",
       " 132,\n",
       " 6,\n",
       " 109,\n",
       " 15,\n",
       " 17,\n",
       " 12]"
      ]
     },
     "execution_count": 53,
     "metadata": {},
     "output_type": "execute_result"
    }
   ],
   "source": [
    "train_data[0]"
   ]
  },
  {
   "cell_type": "markdown",
   "metadata": {},
   "source": [
    "Let's look at the example newswire, decoding it back to words:"
   ]
  },
  {
   "cell_type": "code",
   "execution_count": 55,
   "metadata": {},
   "outputs": [
    {
     "name": "stdout",
     "output_type": "stream",
     "text": [
      "? ? ? said as a result of its december acquisition of space co it expects earnings per share in 1987 of 1 15 to 1 30 dlrs per share up from 70 cts in 1986 the company said pretax net should rise to nine to 10 mln dlrs from six mln dlrs in 1986 and rental operation revenues to 19 to 22 mln dlrs from 12 5 mln dlrs it said cash flow per share this year should be 2 50 to three dlrs reuter 3\n",
      "The class label associated with this example is:  3\n"
     ]
    }
   ],
   "source": [
    "# set the decoded newswire id:\n",
    "decoded_newswire_id = 0  # you can change it to read the other newswires\n",
    "# word_index is a dictionary mapping words to an integer index\n",
    "word_index = reuters.get_word_index()\n",
    "# We reverse it, mapping integer indices to words back\n",
    "reverse_word_index = dict([(value, key) for (key, value) in word_index.items()])\n",
    "# Note that our indices were offset by 3\n",
    "# because 0, 1 and 2 are reserved indices for \"padding\", \"start of sequence\", and \"unknown\".\n",
    "decoded_newswire = ' '.join([reverse_word_index.get(i - 3, '?') for i in train_data[decoded_newswire_id]])\n",
    "print(decoded_newswire)\n",
    "print(\"The class label associated with this example is: \", train_labels[decoded_newswire_id])"
   ]
  },
  {
   "cell_type": "markdown",
   "metadata": {},
   "source": [
    "## Preparing the data\n",
    "\n",
    "Let's vectorize the data with the exact same code (using `vectorize_sequences`) as in our previous example. we use a \"one-hot\" encoding, which is a widely used format for categorical data, also called \"categorical encoding\"."
   ]
  },
  {
   "cell_type": "code",
   "execution_count": 56,
   "metadata": {},
   "outputs": [],
   "source": [
    "# Our vectorized training data\n",
    "x_train = vectorize_sequences(train_data)\n",
    "# Our vectorized test data\n",
    "x_test = vectorize_sequences(test_data)"
   ]
  },
  {
   "cell_type": "markdown",
   "metadata": {},
   "source": [
    "In our case, one-hot encoding of our labels consists in embedding each label as an all-zero vector with a 1 in the place of the label index, e.g.:"
   ]
  },
  {
   "cell_type": "code",
   "execution_count": 57,
   "metadata": {},
   "outputs": [],
   "source": [
    "def to_one_hot(labels, dimension=no_classes):\n",
    "    results = np.zeros((len(labels), dimension))\n",
    "    for i, label in enumerate(labels):\n",
    "        results[i, label] = 1.\n",
    "    return results\n",
    "\n",
    "# Our vectorized training labels\n",
    "one_hot_train_labels = to_one_hot(train_labels)\n",
    "# Our vectorized test labels\n",
    "one_hot_test_labels = to_one_hot(test_labels)"
   ]
  },
  {
   "cell_type": "markdown",
   "metadata": {},
   "source": [
    "Normally, we will use the built-in Keras method, which does the same:"
   ]
  },
  {
   "cell_type": "code",
   "execution_count": 58,
   "metadata": {},
   "outputs": [],
   "source": [
    "from keras.utils.np_utils import to_categorical\n",
    "\n",
    "one_hot_train_labels = to_categorical(train_labels)\n",
    "one_hot_test_labels = to_categorical(test_labels)"
   ]
  },
  {
   "cell_type": "markdown",
   "metadata": {},
   "source": [
    "## Construction of the network model\n",
    "\n",
    "In this classification problem, the number of output classes has gone from 2 to 46, i.e. the dimensionality of the output space is much larger. \n",
    "\n",
    "To avoid \"information bottleneck\" when discriminating 46 classes, we should use more hidden units in layers and more layer:"
   ]
  },
  {
   "cell_type": "code",
   "execution_count": 59,
   "metadata": {},
   "outputs": [
    {
     "name": "stdout",
     "output_type": "stream",
     "text": [
      "Model: \"sequential_7\"\n",
      "_________________________________________________________________\n",
      "Layer (type)                 Output Shape              Param #   \n",
      "=================================================================\n",
      "dense_20 (Dense)             (None, 64)                320064    \n",
      "_________________________________________________________________\n",
      "dense_21 (Dense)             (None, 32)                2080      \n",
      "_________________________________________________________________\n",
      "dense_22 (Dense)             (None, 46)                1518      \n",
      "=================================================================\n",
      "Total params: 323,662\n",
      "Trainable params: 323,662\n",
      "Non-trainable params: 0\n",
      "_________________________________________________________________\n"
     ]
    }
   ],
   "source": [
    "model = models.Sequential()\n",
    "model.add(layers.Dense(64, activation='relu', input_shape=(num_top_words,)))\n",
    "model.add(layers.Dense(32, activation='relu'))\n",
    "model.add(layers.Dense(no_classes, activation='softmax'))\n",
    "\n",
    "model.summary()"
   ]
  },
  {
   "cell_type": "markdown",
   "metadata": {},
   "source": [
    "Instead of using `binary_crossentropy`, we will use `categorical_crossentropy`, which measures the distance between two probability distributions: \n",
    "* the probability distribution output by our network, and\n",
    "* the true distribution of the labels.\n",
    "\n",
    "By minimizing the distance between these two distributions, we train our model to output something as close as possible to the true labels (ground truth)."
   ]
  },
  {
   "cell_type": "code",
   "execution_count": 60,
   "metadata": {},
   "outputs": [],
   "source": [
    "model.compile(optimizer='rmsprop',\n",
    "              loss='categorical_crossentropy',\n",
    "              metrics=['accuracy'])"
   ]
  },
  {
   "cell_type": "markdown",
   "metadata": {},
   "source": [
    "Let's set apart 1,000 samples of our training data and use them as a validation set:"
   ]
  },
  {
   "cell_type": "code",
   "execution_count": 61,
   "metadata": {},
   "outputs": [],
   "source": [
    "x_val = x_train[:1000]\n",
    "partial_x_train = x_train[1000:]\n",
    "\n",
    "y_val = one_hot_train_labels[:1000]\n",
    "partial_y_train = one_hot_train_labels[1000:]"
   ]
  },
  {
   "cell_type": "markdown",
   "metadata": {},
   "source": [
    "Now let's train our model for 20 epochs:"
   ]
  },
  {
   "cell_type": "code",
   "execution_count": 62,
   "metadata": {},
   "outputs": [
    {
     "name": "stdout",
     "output_type": "stream",
     "text": [
      "Epoch 1/20\n",
      "32/32 [==============================] - 2s 19ms/step - loss: 3.1144 - accuracy: 0.3171 - val_loss: 1.7442 - val_accuracy: 0.6620\n",
      "Epoch 2/20\n",
      "32/32 [==============================] - 0s 12ms/step - loss: 1.5222 - accuracy: 0.7002 - val_loss: 1.2717 - val_accuracy: 0.7250\n",
      "Epoch 3/20\n",
      "32/32 [==============================] - 0s 12ms/step - loss: 1.0674 - accuracy: 0.7707 - val_loss: 1.1030 - val_accuracy: 0.7490\n",
      "Epoch 4/20\n",
      "32/32 [==============================] - 0s 13ms/step - loss: 0.8286 - accuracy: 0.8206 - val_loss: 1.0348 - val_accuracy: 0.7740\n",
      "Epoch 5/20\n",
      "32/32 [==============================] - 0s 13ms/step - loss: 0.6525 - accuracy: 0.8582 - val_loss: 0.9341 - val_accuracy: 0.8010\n",
      "Epoch 6/20\n",
      "32/32 [==============================] - 0s 13ms/step - loss: 0.5121 - accuracy: 0.8942 - val_loss: 0.8937 - val_accuracy: 0.8050\n",
      "Epoch 7/20\n",
      "32/32 [==============================] - 0s 13ms/step - loss: 0.4173 - accuracy: 0.9119 - val_loss: 0.8941 - val_accuracy: 0.8170\n",
      "Epoch 8/20\n",
      "32/32 [==============================] - 0s 12ms/step - loss: 0.3349 - accuracy: 0.9286 - val_loss: 0.9583 - val_accuracy: 0.7940\n",
      "Epoch 9/20\n",
      "32/32 [==============================] - 0s 12ms/step - loss: 0.2901 - accuracy: 0.9351 - val_loss: 0.9155 - val_accuracy: 0.8100\n",
      "Epoch 10/20\n",
      "32/32 [==============================] - 0s 12ms/step - loss: 0.2351 - accuracy: 0.9461 - val_loss: 0.9203 - val_accuracy: 0.8110\n",
      "Epoch 11/20\n",
      "32/32 [==============================] - 0s 12ms/step - loss: 0.2020 - accuracy: 0.9499 - val_loss: 0.9350 - val_accuracy: 0.8040\n",
      "Epoch 12/20\n",
      "32/32 [==============================] - 0s 13ms/step - loss: 0.1858 - accuracy: 0.9548 - val_loss: 0.9824 - val_accuracy: 0.7990\n",
      "Epoch 13/20\n",
      "32/32 [==============================] - 0s 13ms/step - loss: 0.1665 - accuracy: 0.9536 - val_loss: 0.9570 - val_accuracy: 0.8040\n",
      "Epoch 14/20\n",
      "32/32 [==============================] - 0s 13ms/step - loss: 0.1478 - accuracy: 0.9598 - val_loss: 1.0453 - val_accuracy: 0.7960\n",
      "Epoch 15/20\n",
      "32/32 [==============================] - 0s 12ms/step - loss: 0.1286 - accuracy: 0.9638 - val_loss: 1.0478 - val_accuracy: 0.7940\n",
      "Epoch 16/20\n",
      "32/32 [==============================] - 0s 12ms/step - loss: 0.1297 - accuracy: 0.9587 - val_loss: 1.0550 - val_accuracy: 0.7990\n",
      "Epoch 17/20\n",
      "32/32 [==============================] - 0s 14ms/step - loss: 0.1273 - accuracy: 0.9617 - val_loss: 1.0732 - val_accuracy: 0.8000\n",
      "Epoch 18/20\n",
      "32/32 [==============================] - 0s 12ms/step - loss: 0.1095 - accuracy: 0.9636 - val_loss: 1.0541 - val_accuracy: 0.7950\n",
      "Epoch 19/20\n",
      "32/32 [==============================] - 0s 12ms/step - loss: 0.1100 - accuracy: 0.9640 - val_loss: 1.1087 - val_accuracy: 0.7880\n",
      "Epoch 20/20\n",
      "32/32 [==============================] - 0s 13ms/step - loss: 0.1146 - accuracy: 0.9572 - val_loss: 1.0611 - val_accuracy: 0.8100\n"
     ]
    }
   ],
   "source": [
    "history = model.fit(partial_x_train,\n",
    "                    partial_y_train,\n",
    "                    epochs=20,\n",
    "                    batch_size=256,\n",
    "                    validation_data=(x_val, y_val))"
   ]
  },
  {
   "cell_type": "markdown",
   "metadata": {},
   "source": [
    "Let's display its loss and accuracy curves:"
   ]
  },
  {
   "cell_type": "code",
   "execution_count": 63,
   "metadata": {
    "scrolled": true
   },
   "outputs": [
    {
     "data": {
      "image/png": "[encoded data removed]",
      "text/plain": [
       "<Figure size 1080x360 with 1 Axes>"
      ]
     },
     "metadata": {
      "needs_background": "light"
     },
     "output_type": "display_data"
    }
   ],
   "source": [
    "history1_dict = history1.history\n",
    "loss1 = history1_dict['loss']\n",
    "val_loss1 = history1_dict['val_loss']\n",
    "\n",
    "PlotLossComparison()"
   ]
  },
  {
   "cell_type": "code",
   "execution_count": 64,
   "metadata": {},
   "outputs": [
    {
     "data": {
      "image/png": "[encoded data removed]",
      "text/plain": [
       "<Figure size 1080x360 with 1 Axes>"
      ]
     },
     "metadata": {
      "needs_background": "light"
     },
     "output_type": "display_data"
    }
   ],
   "source": [
    "acc1 = history1_dict['accuracy']\n",
    "val_acc1 = history1_dict['val_accuracy']\n",
    "\n",
    "PlotAccuracyComparison()"
   ]
  },
  {
   "cell_type": "markdown",
   "metadata": {},
   "source": [
    "Our network starts overfitting after 5 epochs, so let's train it again from scratch for 5 epochs, and then evaluate it on the test set:"
   ]
  },
  {
   "cell_type": "code",
   "execution_count": 65,
   "metadata": {},
   "outputs": [
    {
     "name": "stdout",
     "output_type": "stream",
     "text": [
      "Model: \"sequential_8\"\n",
      "_________________________________________________________________\n",
      "Layer (type)                 Output Shape              Param #   \n",
      "=================================================================\n",
      "dense_23 (Dense)             (None, 64)                320064    \n",
      "_________________________________________________________________\n",
      "dense_24 (Dense)             (None, 32)                2080      \n",
      "_________________________________________________________________\n",
      "dense_25 (Dense)             (None, 46)                1518      \n",
      "=================================================================\n",
      "Total params: 323,662\n",
      "Trainable params: 323,662\n",
      "Non-trainable params: 0\n",
      "_________________________________________________________________\n",
      "Epoch 1/5\n",
      "32/32 [==============================] - 1s 19ms/step - loss: 2.9595 - accuracy: 0.4498 - val_loss: 1.5307 - val_accuracy: 0.6440\n",
      "Epoch 2/5\n",
      "32/32 [==============================] - 0s 13ms/step - loss: 1.3507 - accuracy: 0.7150 - val_loss: 1.2125 - val_accuracy: 0.7120\n",
      "Epoch 3/5\n",
      "32/32 [==============================] - 0s 12ms/step - loss: 0.9727 - accuracy: 0.7888 - val_loss: 1.0688 - val_accuracy: 0.7690\n",
      "Epoch 4/5\n",
      "32/32 [==============================] - 0s 12ms/step - loss: 0.7464 - accuracy: 0.8396 - val_loss: 0.9750 - val_accuracy: 0.7920\n",
      "Epoch 5/5\n",
      "32/32 [==============================] - 0s 12ms/step - loss: 0.6014 - accuracy: 0.8744 - val_loss: 0.9521 - val_accuracy: 0.7920\n",
      "71/71 [==============================] - 0s 2ms/step - loss: 1.0026 - accuracy: 0.7743\n"
     ]
    }
   ],
   "source": [
    "model = models.Sequential()\n",
    "model.add(layers.Dense(64, activation='relu', input_shape=(num_top_words,)))\n",
    "model.add(layers.Dense(32, activation='relu'))\n",
    "model.add(layers.Dense(no_classes, activation='softmax'))\n",
    "\n",
    "model.summary()\n",
    "\n",
    "model.compile(optimizer='rmsprop',\n",
    "              loss='categorical_crossentropy',\n",
    "              metrics=['accuracy'])\n",
    "model.fit(partial_x_train,\n",
    "          partial_y_train,\n",
    "          epochs=5,\n",
    "          batch_size=256,\n",
    "          validation_data=(x_val, y_val))\n",
    "results = model.evaluate(x_test, one_hot_test_labels)"
   ]
  },
  {
   "cell_type": "code",
   "execution_count": 66,
   "metadata": {},
   "outputs": [
    {
     "data": {
      "text/plain": [
       "[1.0026077032089233, 0.7742653489112854]"
      ]
     },
     "execution_count": 66,
     "metadata": {},
     "output_type": "execute_result"
    }
   ],
   "source": [
    "results"
   ]
  },
  {
   "cell_type": "markdown",
   "metadata": {},
   "source": [
    "We reached an accuracy of ~77%, which seems not bad when compared to a random baseline classifier that returns the accuracy of ~18%:"
   ]
  },
  {
   "cell_type": "code",
   "execution_count": 67,
   "metadata": {},
   "outputs": [
    {
     "data": {
      "text/plain": [
       "0.18788958147818344"
      ]
     },
     "execution_count": 67,
     "metadata": {},
     "output_type": "execute_result"
    }
   ],
   "source": [
    "import copy\n",
    "\n",
    "test_labels_copy = copy.copy(test_labels)\n",
    "np.random.shuffle(test_labels_copy)\n",
    "float(np.sum(np.array(test_labels) == np.array(test_labels_copy))) / len(test_labels)"
   ]
  },
  {
   "cell_type": "markdown",
   "metadata": {},
   "source": [
    "Let's verify that the `predict` method of our model instance returns a probability distribution over all 46 topics and the outputs sum to 1:"
   ]
  },
  {
   "cell_type": "code",
   "execution_count": 68,
   "metadata": {},
   "outputs": [],
   "source": [
    "predictions = model.predict(x_test)"
   ]
  },
  {
   "cell_type": "code",
   "execution_count": 69,
   "metadata": {},
   "outputs": [
    {
     "data": {
      "text/plain": [
       "(46,)"
      ]
     },
     "execution_count": 69,
     "metadata": {},
     "output_type": "execute_result"
    }
   ],
   "source": [
    "predictions[0].shape"
   ]
  },
  {
   "cell_type": "code",
   "execution_count": 70,
   "metadata": {},
   "outputs": [
    {
     "data": {
      "text/plain": [
       "1.0"
      ]
     },
     "execution_count": 70,
     "metadata": {},
     "output_type": "execute_result"
    }
   ],
   "source": [
    "np.sum(predictions[0])"
   ]
  },
  {
   "cell_type": "markdown",
   "metadata": {},
   "source": [
    "The largest output defines the predicted class, i.e. the class with the highest probability:"
   ]
  },
  {
   "cell_type": "code",
   "execution_count": 71,
   "metadata": {
    "scrolled": true
   },
   "outputs": [
    {
     "data": {
      "text/plain": [
       "4"
      ]
     },
     "execution_count": 71,
     "metadata": {},
     "output_type": "execute_result"
    }
   ],
   "source": [
    "np.argmax(predictions[0])"
   ]
  },
  {
   "cell_type": "markdown",
   "metadata": {},
   "source": [
    "There are two ways to handle labels in multi-class classification:\n",
    "* Encoding the labels as \"one-hot vectors\" and using `categorical_crossentropy`. \n",
    "* Encoding the labels as integers and using the `sparse_categorical_crossentropy` loss function."
   ]
  },
  {
   "cell_type": "code",
   "execution_count": 72,
   "metadata": {},
   "outputs": [],
   "source": [
    "model.compile(optimizer='rmsprop',\n",
    "              loss='sparse_categorical_crossentropy',\n",
    "              metrics=['acc'])"
   ]
  },
  {
   "cell_type": "markdown",
   "metadata": {},
   "source": [
    "Now, let's experiment with different models to minimize loss of the model:"
   ]
  },
  {
   "cell_type": "code",
   "execution_count": 73,
   "metadata": {},
   "outputs": [
    {
     "name": "stdout",
     "output_type": "stream",
     "text": [
      "Model: \"sequential_8\"\n",
      "_________________________________________________________________\n",
      "Layer (type)                 Output Shape              Param #   \n",
      "=================================================================\n",
      "dense_23 (Dense)             (None, 64)                320064    \n",
      "_________________________________________________________________\n",
      "dense_24 (Dense)             (None, 32)                2080      \n",
      "_________________________________________________________________\n",
      "dense_25 (Dense)             (None, 46)                1518      \n",
      "=================================================================\n",
      "Total params: 323,662\n",
      "Trainable params: 323,662\n",
      "Non-trainable params: 0\n",
      "_________________________________________________________________\n",
      "Epoch 1/20\n",
      "32/32 [==============================] - 1s 15ms/step - loss: 3.3824 - accuracy: 0.2644 - val_loss: 2.1911 - val_accuracy: 0.4770\n",
      "Epoch 2/20\n",
      "32/32 [==============================] - 0s 9ms/step - loss: 1.9143 - accuracy: 0.6059 - val_loss: 1.5499 - val_accuracy: 0.6750\n",
      "Epoch 3/20\n",
      "32/32 [==============================] - 0s 8ms/step - loss: 1.3733 - accuracy: 0.7290 - val_loss: 1.3095 - val_accuracy: 0.7130\n",
      "Epoch 4/20\n",
      "32/32 [==============================] - 0s 8ms/step - loss: 1.0859 - accuracy: 0.7635 - val_loss: 1.1910 - val_accuracy: 0.7450\n",
      "Epoch 5/20\n",
      "32/32 [==============================] - 0s 8ms/step - loss: 0.9228 - accuracy: 0.7953 - val_loss: 1.0982 - val_accuracy: 0.7620\n",
      "Epoch 6/20\n",
      "32/32 [==============================] - 0s 8ms/step - loss: 0.8334 - accuracy: 0.8133 - val_loss: 1.0429 - val_accuracy: 0.7790\n",
      "Epoch 7/20\n",
      "32/32 [==============================] - 0s 8ms/step - loss: 0.7208 - accuracy: 0.8425 - val_loss: 1.0184 - val_accuracy: 0.7870\n",
      "Epoch 8/20\n",
      "32/32 [==============================] - 0s 8ms/step - loss: 0.6220 - accuracy: 0.8608 - val_loss: 0.9949 - val_accuracy: 0.7940\n",
      "Epoch 9/20\n",
      "32/32 [==============================] - 0s 8ms/step - loss: 0.5455 - accuracy: 0.8771 - val_loss: 0.9733 - val_accuracy: 0.7950\n",
      "Epoch 10/20\n",
      "32/32 [==============================] - 0s 8ms/step - loss: 0.4992 - accuracy: 0.8863 - val_loss: 0.9634 - val_accuracy: 0.8010\n",
      "Epoch 11/20\n",
      "32/32 [==============================] - 0s 8ms/step - loss: 0.4411 - accuracy: 0.9022 - val_loss: 0.9508 - val_accuracy: 0.8040\n",
      "Epoch 12/20\n",
      "32/32 [==============================] - 0s 8ms/step - loss: 0.3770 - accuracy: 0.9181 - val_loss: 0.9515 - val_accuracy: 0.8030\n",
      "Epoch 13/20\n",
      "32/32 [==============================] - 0s 8ms/step - loss: 0.3388 - accuracy: 0.9216 - val_loss: 0.9606 - val_accuracy: 0.8050\n",
      "Epoch 14/20\n",
      "32/32 [==============================] - 0s 9ms/step - loss: 0.2920 - accuracy: 0.9330 - val_loss: 0.9746 - val_accuracy: 0.8080\n",
      "Epoch 15/20\n",
      "32/32 [==============================] - 0s 9ms/step - loss: 0.2578 - accuracy: 0.9394 - val_loss: 1.0071 - val_accuracy: 0.7940\n",
      "Epoch 16/20\n",
      "32/32 [==============================] - 0s 8ms/step - loss: 0.2394 - accuracy: 0.9450 - val_loss: 0.9847 - val_accuracy: 0.8090\n",
      "Epoch 17/20\n",
      "32/32 [==============================] - 0s 9ms/step - loss: 0.2150 - accuracy: 0.9497 - val_loss: 0.9940 - val_accuracy: 0.8000\n",
      "Epoch 18/20\n",
      "32/32 [==============================] - 0s 8ms/step - loss: 0.1977 - accuracy: 0.9519 - val_loss: 0.9970 - val_accuracy: 0.8010\n",
      "Epoch 19/20\n",
      "32/32 [==============================] - 0s 8ms/step - loss: 0.1834 - accuracy: 0.9543 - val_loss: 1.0175 - val_accuracy: 0.7960\n",
      "Epoch 20/20\n",
      "32/32 [==============================] - 0s 9ms/step - loss: 0.1686 - accuracy: 0.9532 - val_loss: 1.0307 - val_accuracy: 0.8110\n"
     ]
    }
   ],
   "source": [
    "x_val = x_train[:1000]\n",
    "partial_x_train = x_train[1000:]\n",
    "y_val = one_hot_train_labels[:1000]\n",
    "partial_y_train = one_hot_train_labels[1000:]\n",
    "\n",
    "model2 = models.Sequential()\n",
    "model2.add(layers.Dense(32, activation='relu', input_shape=(num_top_words,)))\n",
    "model2.add(layers.Dense(16, activation='relu'))\n",
    "model2.add(layers.Dense(no_classes, activation='softmax'))\n",
    "\n",
    "model.summary()\n",
    "\n",
    "model2.compile(optimizer='rmsprop',\n",
    "               loss='categorical_crossentropy',\n",
    "               metrics=['accuracy'])\n",
    "\n",
    "history2 = model2.fit(partial_x_train,\n",
    "                      partial_y_train,\n",
    "                      epochs=20,\n",
    "                      batch_size=256,\n",
    "                      validation_data=(x_val, y_val))"
   ]
  },
  {
   "cell_type": "code",
   "execution_count": 74,
   "metadata": {},
   "outputs": [
    {
     "data": {
      "image/png": "[encoded data removed]",
      "text/plain": [
       "<Figure size 1080x360 with 1 Axes>"
      ]
     },
     "metadata": {
      "needs_background": "light"
     },
     "output_type": "display_data"
    },
    {
     "data": {
      "image/png": "[encoded data removed]",
      "text/plain": [
       "<Figure size 1080x360 with 1 Axes>"
      ]
     },
     "metadata": {
      "needs_background": "light"
     },
     "output_type": "display_data"
    }
   ],
   "source": [
    "history2_dict = history2.history\n",
    "\n",
    "#loss1 = history1_dict['loss']\n",
    "loss2 = history2_dict['loss']\n",
    "#val_loss1 = history1_dict['val_loss']\n",
    "val_loss2 = history2_dict['val_loss']\n",
    "PlotTwoLossComparison()\n",
    "\n",
    "acc2 = history2_dict['accuracy']\n",
    "val_acc2 = history2_dict['val_accuracy']\n",
    "PlotTwoAccuracyComparison()"
   ]
  },
  {
   "cell_type": "markdown",
   "metadata": {},
   "source": [
    "# A regression example\n",
    "\n",
    "In our two previous examples, we were considering different classification problems, where the goal was to predict a single discrete label of an \n",
    "input data point. Another common type of machine learning problem is <b>regression</b>, which consists of predicting a continuous value instead \n",
    "of a discrete class label,e.g. predicting costs, temperature, prices.\n",
    "\n",
    "Do not mix up <b>regression</b> with the algorithm <b>logistic regression</b>, which is not a regression algorithm, but a classification algorithm."
   ]
  },
  {
   "cell_type": "markdown",
   "metadata": {},
   "source": [
    "## The Boston Housing Price dataset\n",
    "\n",
    "We will demonstrate the regression by attempting to predict the median price of homes in a given Boston suburb in the mid-1970s, given a few data points about the suburb at the time, such as the crime rate, the local property tax rate, etc.\n",
    "\n",
    "For training, we will have very few data points (examples), only 506 in \n",
    "total, split between 404 training samples and 102 test samples, and each \"feature\" in the input data (e.g. the crime rate is a feature) has a different scale. For instance some values are proportions, which take a values between 0 and 1, others take values between 1 and 12, others between 0 and 100, etc."
   ]
  },
  {
   "cell_type": "code",
   "execution_count": 75,
   "metadata": {},
   "outputs": [
    {
     "name": "stdout",
     "output_type": "stream",
     "text": [
      "Downloading data from https://storage.googleapis.com/tensorflow/tf-keras-datasets/boston_housing.npz\n",
      "57344/57026 [==============================] - 0s 0us/step\n"
     ]
    }
   ],
   "source": [
    "from keras.datasets import boston_housing\n",
    "\n",
    "(train_data, train_targets), (test_data, test_targets) =  boston_housing.load_data()"
   ]
  },
  {
   "cell_type": "code",
   "execution_count": 76,
   "metadata": {},
   "outputs": [
    {
     "data": {
      "text/plain": [
       "(404, 13)"
      ]
     },
     "execution_count": 76,
     "metadata": {},
     "output_type": "execute_result"
    }
   ],
   "source": [
    "train_data.shape"
   ]
  },
  {
   "cell_type": "code",
   "execution_count": 77,
   "metadata": {},
   "outputs": [
    {
     "data": {
      "text/plain": [
       "(102, 13)"
      ]
     },
     "execution_count": 77,
     "metadata": {},
     "output_type": "execute_result"
    }
   ],
   "source": [
    "test_data.shape"
   ]
  },
  {
   "cell_type": "markdown",
   "metadata": {},
   "source": [
    "We have 404 training examples and 102 test examples.\n",
    "\n",
    "The data comprises 13 features:\n",
    "\n",
    "1. Per capita crime rate.\n",
    "2. Proportion of residential land zoned for lots over 25,000 square feet.\n",
    "3. Proportion of non-retail business acres per town.\n",
    "4. Charles River dummy variable (equals to 1 if tract bounds river; 0 otherwise).\n",
    "5. Nitric oxides concentration (parts per 10 million).\n",
    "6. Average number of rooms per dwelling.\n",
    "7. Proportion of owner-occupied units built prior to 1940.\n",
    "8. Weighted distances to five Boston employment centres.\n",
    "9. Index of accessibility to radial highways.\n",
    "10. Full-value property-tax rate per \\\\$10,000.\n",
    "11. Pupil-teacher ratio by town.\n",
    "12. 1000 * (Bk - 0.63)^2 where Bk is the proportion of Black people by town.\n",
    "13. Percentage of lower status of the population.\n",
    "\n",
    "The targets are the median values of owner-occupied homes, in thousands of dollars:"
   ]
  },
  {
   "cell_type": "code",
   "execution_count": 78,
   "metadata": {},
   "outputs": [
    {
     "data": {
      "text/plain": [
       "array([15.2, 42.3, 50. , 21.1, 17.7, 18.5, 11.3, 15.6, 15.6, 14.4, 12.1,\n",
       "       17.9, 23.1, 19.9, 15.7,  8.8, 50. , 22.5, 24.1, 27.5, 10.9, 30.8,\n",
       "       32.9, 24. , 18.5, 13.3, 22.9, 34.7, 16.6, 17.5, 22.3, 16.1, 14.9,\n",
       "       23.1, 34.9, 25. , 13.9, 13.1, 20.4, 20. , 15.2, 24.7, 22.2, 16.7,\n",
       "       12.7, 15.6, 18.4, 21. , 30.1, 15.1, 18.7,  9.6, 31.5, 24.8, 19.1,\n",
       "       22. , 14.5, 11. , 32. , 29.4, 20.3, 24.4, 14.6, 19.5, 14.1, 14.3,\n",
       "       15.6, 10.5,  6.3, 19.3, 19.3, 13.4, 36.4, 17.8, 13.5, 16.5,  8.3,\n",
       "       14.3, 16. , 13.4, 28.6, 43.5, 20.2, 22. , 23. , 20.7, 12.5, 48.5,\n",
       "       14.6, 13.4, 23.7, 50. , 21.7, 39.8, 38.7, 22.2, 34.9, 22.5, 31.1,\n",
       "       28.7, 46. , 41.7, 21. , 26.6, 15. , 24.4, 13.3, 21.2, 11.7, 21.7,\n",
       "       19.4, 50. , 22.8, 19.7, 24.7, 36.2, 14.2, 18.9, 18.3, 20.6, 24.6,\n",
       "       18.2,  8.7, 44. , 10.4, 13.2, 21.2, 37. , 30.7, 22.9, 20. , 19.3,\n",
       "       31.7, 32. , 23.1, 18.8, 10.9, 50. , 19.6,  5. , 14.4, 19.8, 13.8,\n",
       "       19.6, 23.9, 24.5, 25. , 19.9, 17.2, 24.6, 13.5, 26.6, 21.4, 11.9,\n",
       "       22.6, 19.6,  8.5, 23.7, 23.1, 22.4, 20.5, 23.6, 18.4, 35.2, 23.1,\n",
       "       27.9, 20.6, 23.7, 28. , 13.6, 27.1, 23.6, 20.6, 18.2, 21.7, 17.1,\n",
       "        8.4, 25.3, 13.8, 22.2, 18.4, 20.7, 31.6, 30.5, 20.3,  8.8, 19.2,\n",
       "       19.4, 23.1, 23. , 14.8, 48.8, 22.6, 33.4, 21.1, 13.6, 32.2, 13.1,\n",
       "       23.4, 18.9, 23.9, 11.8, 23.3, 22.8, 19.6, 16.7, 13.4, 22.2, 20.4,\n",
       "       21.8, 26.4, 14.9, 24.1, 23.8, 12.3, 29.1, 21. , 19.5, 23.3, 23.8,\n",
       "       17.8, 11.5, 21.7, 19.9, 25. , 33.4, 28.5, 21.4, 24.3, 27.5, 33.1,\n",
       "       16.2, 23.3, 48.3, 22.9, 22.8, 13.1, 12.7, 22.6, 15. , 15.3, 10.5,\n",
       "       24. , 18.5, 21.7, 19.5, 33.2, 23.2,  5. , 19.1, 12.7, 22.3, 10.2,\n",
       "       13.9, 16.3, 17. , 20.1, 29.9, 17.2, 37.3, 45.4, 17.8, 23.2, 29. ,\n",
       "       22. , 18. , 17.4, 34.6, 20.1, 25. , 15.6, 24.8, 28.2, 21.2, 21.4,\n",
       "       23.8, 31. , 26.2, 17.4, 37.9, 17.5, 20. ,  8.3, 23.9,  8.4, 13.8,\n",
       "        7.2, 11.7, 17.1, 21.6, 50. , 16.1, 20.4, 20.6, 21.4, 20.6, 36.5,\n",
       "        8.5, 24.8, 10.8, 21.9, 17.3, 18.9, 36.2, 14.9, 18.2, 33.3, 21.8,\n",
       "       19.7, 31.6, 24.8, 19.4, 22.8,  7.5, 44.8, 16.8, 18.7, 50. , 50. ,\n",
       "       19.5, 20.1, 50. , 17.2, 20.8, 19.3, 41.3, 20.4, 20.5, 13.8, 16.5,\n",
       "       23.9, 20.6, 31.5, 23.3, 16.8, 14. , 33.8, 36.1, 12.8, 18.3, 18.7,\n",
       "       19.1, 29. , 30.1, 50. , 50. , 22. , 11.9, 37.6, 50. , 22.7, 20.8,\n",
       "       23.5, 27.9, 50. , 19.3, 23.9, 22.6, 15.2, 21.7, 19.2, 43.8, 20.3,\n",
       "       33.2, 19.9, 22.5, 32.7, 22. , 17.1, 19. , 15. , 16.1, 25.1, 23.7,\n",
       "       28.7, 37.2, 22.6, 16.4, 25. , 29.8, 22.1, 17.4, 18.1, 30.3, 17.5,\n",
       "       24.7, 12.6, 26.5, 28.7, 13.3, 10.4, 24.4, 23. , 20. , 17.8,  7. ,\n",
       "       11.8, 24.4, 13.8, 19.4, 25.2, 19.4, 19.4, 29.1])"
      ]
     },
     "execution_count": 78,
     "metadata": {},
     "output_type": "execute_result"
    }
   ],
   "source": [
    "train_targets"
   ]
  },
  {
   "cell_type": "markdown",
   "metadata": {},
   "source": [
    "## Preparing the data\n",
    "\n",
    "It is problematic to feed into a neural network values that take wildly different ranges. The network might be able to automatically adapt to such heterogeneous data, but it would definitely make learning more difficult. A widespread best practice to deal with such data is to do feature-wise normalization: for each feature in the input data (a column in the input data matrix), we will subtract the mean of the feature and divide by the standard deviation, so that the feature will be centered around 0 and will have a unit standard deviation. This can be easily done in Numpy:"
   ]
  },
  {
   "cell_type": "code",
   "execution_count": 79,
   "metadata": {},
   "outputs": [],
   "source": [
    "mean = train_data.mean(axis=0)\n",
    "std = train_data.std(axis=0)\n",
    "\n",
    "train_data -= mean\n",
    "train_data /= std\n",
    "\n",
    "test_data -= mean\n",
    "test_data /= std"
   ]
  },
  {
   "cell_type": "markdown",
   "metadata": {},
   "source": [
    "## Building a network\n",
    "\n",
    "Because so few samples are available, we will be using a very small network with two hidden layers, each with 32 units. In general, the less training data you have, the worse overfitting will be, and using a small network is one way to mitigate overfitting."
   ]
  },
  {
   "cell_type": "code",
   "execution_count": 80,
   "metadata": {},
   "outputs": [],
   "source": [
    "def build_model():\n",
    "    # Because we will need to instantiate the same model multiple times,\n",
    "    # we use a function to construct it.\n",
    "    model = models.Sequential()\n",
    "    model.add(layers.Dense(32, activation='relu',\n",
    "                           input_shape=(train_data.shape[1],)))\n",
    "    model.add(layers.Dense(32, activation='relu'))\n",
    "    model.add(layers.Dense(1))\n",
    "    model.compile(optimizer='rmsprop', loss='mse', metrics=['mae'])\n",
    "    return model"
   ]
  },
  {
   "cell_type": "markdown",
   "metadata": {},
   "source": [
    "Our network ends with a single unit with no activation function (i.e. it will be a linear layer). This is a typical setup for scalar regression (i.e. regression where we are trying to predict a single continuous value).\n",
    "\n",
    "Applying an activation function would constrain the range that the output can take; for instance if we applied a `sigmoid` activation function to our last layer, the network could only learn to predict values between 0 and 1. Here, because the last layer is purely linear, the network is free to learn to predict values in any range.\n",
    "\n",
    "Note that we are compiling the network with the `mse` loss function (Mean Squared Error), the square of the difference between the predictions and the targets, a widely used loss function for regression problems.\n",
    "\n",
    "We are also monitoring a new metric during training using `mae` that stands for Mean Absolute Error. It is simply the absolute value of the \n",
    "difference between the predictions and the targets. For instance, a MAE of 0.5 on this problem would mean that our predictions are off by \n",
    "\\\\$500 on average."
   ]
  },
  {
   "cell_type": "markdown",
   "metadata": {},
   "source": [
    "## Validating our approach using K-fold cross-validation\n",
    "\n",
    "\n",
    "To evaluate our network during training, we could split the data into a training set and a validation set, as we were doing in our previous examples. However, because we have so few examples, the validation set should be very small (e.g. about 80 examples). A consequence is that our validation scores may change a lot depending on which examples we choose for validation and which for training, i.e. the validation scores may have a high <b>variance</b> with regard to the validation split. This would prevent us from reliably evaluating our model.\n",
    "\n",
    "The best practice in such situations is to use K-fold cross-validation. It consists of splitting the available data into K partitions \n",
    "(typically K=10 or 5), then instantiating K identical models, and training each one on K-1 partitions while evaluating on the remaining partition. The validation score for the model used would then be the average of the K validation scores obtained."
   ]
  },
  {
   "cell_type": "code",
   "execution_count": 81,
   "metadata": {},
   "outputs": [
    {
     "name": "stdout",
     "output_type": "stream",
     "text": [
      "processing fold # 0\n",
      "processing fold # 1\n",
      "processing fold # 2\n",
      "processing fold # 3\n",
      "WARNING:tensorflow:5 out of the last 90 calls to <function Model.make_test_function.<locals>.test_function at 0x000002C42F0BD550> triggered tf.function retracing. Tracing is expensive and the excessive number of tracings could be due to (1) creating @tf.function repeatedly in a loop, (2) passing tensors with different shapes, (3) passing Python objects instead of tensors. For (1), please define your @tf.function outside of the loop. For (2), @tf.function has experimental_relax_shapes=True option that relaxes argument shapes that can avoid unnecessary retracing. For (3), please refer to https://www.tensorflow.org/guide/function#controlling_retracing and https://www.tensorflow.org/api_docs/python/tf/function for  more details.\n",
      "processing fold # 4\n",
      "WARNING:tensorflow:5 out of the last 13 calls to <function Model.make_test_function.<locals>.test_function at 0x000002C41F4A7AF0> triggered tf.function retracing. Tracing is expensive and the excessive number of tracings could be due to (1) creating @tf.function repeatedly in a loop, (2) passing tensors with different shapes, (3) passing Python objects instead of tensors. For (1), please define your @tf.function outside of the loop. For (2), @tf.function has experimental_relax_shapes=True option that relaxes argument shapes that can avoid unnecessary retracing. For (3), please refer to https://www.tensorflow.org/guide/function#controlling_retracing and https://www.tensorflow.org/api_docs/python/tf/function for  more details.\n"
     ]
    }
   ],
   "source": [
    "import numpy as np\n",
    "\n",
    "k = 5\n",
    "num_val_samples = len(train_data) // k\n",
    "num_epochs = 100\n",
    "all_scores = []\n",
    "for i in range(k):\n",
    "    print('processing fold #', i)\n",
    "    # Prepare the validation data: data from partition # k\n",
    "    val_data = train_data[i * num_val_samples: (i + 1) * num_val_samples]\n",
    "    val_targets = train_targets[i * num_val_samples: (i + 1) * num_val_samples]\n",
    "\n",
    "    # Prepare the training data: data from all other partitions\n",
    "    partial_train_data = np.concatenate(\n",
    "        [train_data[:i * num_val_samples],\n",
    "         train_data[(i + 1) * num_val_samples:]],\n",
    "        axis=0)\n",
    "    partial_train_targets = np.concatenate(\n",
    "        [train_targets[:i * num_val_samples],\n",
    "         train_targets[(i + 1) * num_val_samples:]],\n",
    "        axis=0)\n",
    "\n",
    "    # Build the Keras model (already compiled)\n",
    "    model = build_model()\n",
    "    # Train the model (verbose=0 sets the fitting into a silent mode)\n",
    "    model.fit(partial_train_data, partial_train_targets,\n",
    "              epochs=num_epochs, batch_size=1, verbose=0)\n",
    "    # Evaluate the model on the validation data\n",
    "    val_mse, val_mae = model.evaluate(val_data, val_targets, verbose=0)\n",
    "    all_scores.append(val_mae)"
   ]
  },
  {
   "cell_type": "code",
   "execution_count": 82,
   "metadata": {},
   "outputs": [
    {
     "data": {
      "text/plain": [
       "[1.7615611553192139,\n",
       " 2.5532422065734863,\n",
       " 2.028829574584961,\n",
       " 2.810173988342285,\n",
       " 2.764441967010498]"
      ]
     },
     "execution_count": 82,
     "metadata": {},
     "output_type": "execute_result"
    }
   ],
   "source": [
    "all_scores"
   ]
  },
  {
   "cell_type": "code",
   "execution_count": 83,
   "metadata": {},
   "outputs": [
    {
     "data": {
      "text/plain": [
       "2.383649778366089"
      ]
     },
     "execution_count": 83,
     "metadata": {},
     "output_type": "execute_result"
    }
   ],
   "source": [
    "np.mean(all_scores)"
   ]
  },
  {
   "cell_type": "markdown",
   "metadata": {},
   "source": [
    "We can notice that the different runs do indeed show rather different validation scores, from 2.1 to 2.9. Their average (~2.6) is a much more \n",
    "reliable metric than any single of these scores - that's the entire point of K-fold cross-validation. In this case, we are off by \\\\$2,600 on average, which is still significant considering that the prices range from \\\\$10,000 to \\\\$50,000. \n",
    "\n",
    "Let's try training the network for a bit longer: 500 epochs. To keep a record of how well the model did at each epoch, we will modify our training loop \n",
    "to save the per-epoch validation score log:"
   ]
  },
  {
   "cell_type": "code",
   "execution_count": 84,
   "metadata": {},
   "outputs": [],
   "source": [
    "from keras import backend as K\n",
    "\n",
    "# Some memory clean-up\n",
    "K.clear_session()"
   ]
  },
  {
   "cell_type": "code",
   "execution_count": 85,
   "metadata": {},
   "outputs": [
    {
     "name": "stdout",
     "output_type": "stream",
     "text": [
      "processing fold # 0\n",
      "WARNING:tensorflow:5 out of the last 13 calls to <function Model.make_test_function.<locals>.test_function at 0x000002C433F3D700> triggered tf.function retracing. Tracing is expensive and the excessive number of tracings could be due to (1) creating @tf.function repeatedly in a loop, (2) passing tensors with different shapes, (3) passing Python objects instead of tensors. For (1), please define your @tf.function outside of the loop. For (2), @tf.function has experimental_relax_shapes=True option that relaxes argument shapes that can avoid unnecessary retracing. For (3), please refer to https://www.tensorflow.org/guide/function#controlling_retracing and https://www.tensorflow.org/api_docs/python/tf/function for  more details.\n",
      "processing fold # 1\n",
      "processing fold # 2\n",
      "processing fold # 3\n",
      "processing fold # 4\n"
     ]
    }
   ],
   "source": [
    "num_epochs = 500\n",
    "all_mae_histories = []\n",
    "for i in range(k):\n",
    "    print('processing fold #', i)\n",
    "    # Prepare the validation data: data from partition # k\n",
    "    val_data = train_data[i * num_val_samples: (i + 1) * num_val_samples]\n",
    "    val_targets = train_targets[i * num_val_samples: (i + 1) * num_val_samples]\n",
    "\n",
    "    # Prepare the training data: data from all other partitions\n",
    "    partial_train_data = np.concatenate(\n",
    "        [train_data[:i * num_val_samples], train_data[(i + 1) * num_val_samples:]],\n",
    "        axis=0)\n",
    "    partial_train_targets = np.concatenate(\n",
    "        [train_targets[:i * num_val_samples], train_targets[(i + 1) * num_val_samples:]],\n",
    "        axis=0)\n",
    "\n",
    "    # Build the Keras model (already compiled)\n",
    "    model = build_model()\n",
    "    # Train the model (in silent mode, verbose=0)\n",
    "    history = model.fit(partial_train_data, partial_train_targets,\n",
    "                        validation_data=(val_data, val_targets),\n",
    "                        epochs=num_epochs, batch_size=16, verbose=0)\n",
    "    #print (history.history.keys())\n",
    "    #mae_history = history.history['val_mean_absolute_error']\n",
    "    mae_history = history.history['val_mae']\n",
    "    all_mae_histories.append(mae_history)"
   ]
  },
  {
   "cell_type": "markdown",
   "metadata": {},
   "source": [
    "We can then compute the average of the per-epoch MAE scores for all folds:"
   ]
  },
  {
   "cell_type": "code",
   "execution_count": null,
   "metadata": {},
   "outputs": [],
   "source": [
    "average_mae_history = [np.mean([x[i] for x in all_mae_histories])\n",
    "                       for i in range(num_epochs)]"
   ]
  },
  {
   "cell_type": "code",
   "execution_count": null,
   "metadata": {},
   "outputs": [],
   "source": [
    "argmin = np.argmin(average_mae_history)"
   ]
  },
  {
   "cell_type": "code",
   "execution_count": null,
   "metadata": {},
   "outputs": [],
   "source": [
    "argmin"
   ]
  },
  {
   "cell_type": "code",
   "execution_count": null,
   "metadata": {},
   "outputs": [],
   "source": [
    "average_mae_history[np.argmin(average_mae_history)]"
   ]
  },
  {
   "cell_type": "markdown",
   "metadata": {},
   "source": [
    "Let's plot the validation Mean Absolute Error history of training:"
   ]
  },
  {
   "cell_type": "code",
   "execution_count": null,
   "metadata": {},
   "outputs": [],
   "source": [
    "import matplotlib.pyplot as plt\n",
    "\n",
    "plt.plot(range(1, len(average_mae_history) + 1), average_mae_history)\n",
    "plt.axvline(x=argmin, color='r', linewidth=2)\n",
    "plt.xlabel('Epochs')\n",
    "plt.ylabel('Validation MAE')\n",
    "plt.show()"
   ]
  },
  {
   "cell_type": "markdown",
   "metadata": {},
   "source": [
    "As we can see, we achieved the minimum average MAE in the 47th epoch."
   ]
  },
  {
   "cell_type": "markdown",
   "metadata": {},
   "source": [
    "It is a bit hard to see the plot due to scaling issues and relatively high variance. Let's use the smoothing factor ($factor = 1 - 1/10 = 0.9$, exponential moving average of the previous points) taking into account the last 10 data points. We also omit the first 10 data points, which are on a different scale from the rest of the curve."
   ]
  },
  {
   "cell_type": "code",
   "execution_count": null,
   "metadata": {},
   "outputs": [],
   "source": [
    "def smooth_curve(points, factor=0.9):\n",
    "  smoothed_points = []\n",
    "  for point in points:\n",
    "    if smoothed_points:\n",
    "      previous = smoothed_points[-1]\n",
    "      smoothed_points.append(previous * factor + point * (1 - factor))\n",
    "    else:\n",
    "      smoothed_points.append(point)\n",
    "  return smoothed_points\n",
    "\n",
    "smooth_mae_history = smooth_curve(average_mae_history[10:])\n",
    "\n",
    "plt.plot(range(1, len(smooth_mae_history) + 1), smooth_mae_history)\n",
    "plt.axvline(x=argmin, color='r', linewidth=2)\n",
    "plt.xlabel('Epochs')\n",
    "plt.ylabel('Validation MAE')\n",
    "plt.show()"
   ]
  },
  {
   "cell_type": "markdown",
   "metadata": {},
   "source": [
    "Now, we can train a final \"production\" model on all of the training data, with the best found parameters, training it for about 47 epoch, and then look at its performance on the test data:"
   ]
  },
  {
   "cell_type": "code",
   "execution_count": null,
   "metadata": {},
   "outputs": [],
   "source": [
    "# Get a fresh, compiled model.\n",
    "model = build_model()\n",
    "# Train it on the entirety of the data.\n",
    "model.fit(train_data, train_targets,\n",
    "          epochs=259, batch_size=16, verbose=0)\n",
    "test_mse_score, test_mae_score = model.evaluate(test_data, test_targets)"
   ]
  },
  {
   "cell_type": "code",
   "execution_count": null,
   "metadata": {},
   "outputs": [],
   "source": [
    "test_mae_score"
   ]
  },
  {
   "cell_type": "markdown",
   "metadata": {},
   "source": [
    "We are still off by about \\$2,360 with our predictions."
   ]
  },
  {
   "cell_type": "markdown",
   "metadata": {},
   "source": [
    "Copy-paste the above code and try to experiment more with the available hypeparameters of this model to achieve still better performance!"
   ]
  },
  {
   "cell_type": "markdown",
   "metadata": {},
   "source": [
    "## Assignments\n",
    "\n",
    "*\tIf you feel that you have some knowledge gaps in Python programming, please go rapidly to any Python course (e.g., https://www.w3schools.com/python/default.asp) and make you familiar with it.\n",
    "*\tFirst of all, go through all these sample networks and parameters carefully, and if anything is unknown to you, try to find it on the Internet or go to https://keras.io/ and find the appropriate description. This is an essential part of your learning process because not all parameters and functions will be presented during the lectures and laboratory classes and in these Jupyter notebooks.\n",
    "*\tTry to experiment with some parameters (green hyperparameters can be changed) and train the above models again and again. Try to conclude about the effects following your changes. In the next classes, you will be able to do modifications more consciously after the next lecture. You can copy-paste some codes here.\n",
    "*\tTry to repeat the sequence of instructions and create your network below from scratch.\n",
    "*\tWe will gradually raise the bar during our lectures and laboratory classes until you are prepared to start your final project at the project classes in the second part of this semester."
   ]
  },
  {
   "cell_type": "code",
   "execution_count": null,
   "metadata": {},
   "outputs": [],
   "source": []
  },
  {
   "cell_type": "code",
   "execution_count": null,
   "metadata": {},
   "outputs": [],
   "source": []
  }
 ],
 "metadata": {
  "kernelspec": {
   "display_name": "Python 3",
   "language": "python",
   "name": "python3"
  },
  "language_info": {
   "codemirror_mode": {
    "name": "ipython",
    "version": 3
   },
   "file_extension": ".py",
   "mimetype": "text/x-python",
   "name": "python",
   "nbconvert_exporter": "python",
   "pygments_lexer": "ipython3",
   "version": "3.8.3"
  }
 },
 "nbformat": 4,
 "nbformat_minor": 4
}
